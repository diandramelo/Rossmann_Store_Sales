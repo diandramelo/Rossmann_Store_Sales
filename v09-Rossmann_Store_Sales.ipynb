{
 "cells": [
  {
   "cell_type": "markdown",
   "metadata": {
    "heading_collapsed": true
   },
   "source": [
    "# 0. IMPORTS"
   ]
  },
  {
   "cell_type": "markdown",
   "metadata": {
    "hidden": true
   },
   "source": [
    "## 0.1. Libraries"
   ]
  },
  {
   "cell_type": "code",
   "execution_count": 1,
   "metadata": {
    "ExecuteTime": {
     "end_time": "2020-11-23T08:13:03.804530Z",
     "start_time": "2020-11-23T08:12:55.888785Z"
    },
    "hidden": true
   },
   "outputs": [],
   "source": [
    "import pandas as pd\n",
    "import inflection\n",
    "import numpy as np\n",
    "import seaborn as sns\n",
    "import matplotlib.pyplot as plt\n",
    "import xgboost as xgb\n",
    "import pickle\n",
    "import requests\n",
    "\n",
    "from IPython.display       import Image\n",
    "from matplotlib            import gridspec\n",
    "from tabulate              import tabulate\n",
    "from scipy.stats           import chi2_contingency\n",
    "from sklearn.preprocessing import MinMaxScaler, RobustScaler, LabelEncoder\n",
    "from boruta                import BorutaPy\n",
    "from sklearn.ensemble      import RandomForestRegressor\n",
    "from sklearn.metrics       import mean_absolute_error, mean_squared_error\n",
    "from sklearn.linear_model  import LinearRegression, Lasso\n",
    "\n",
    "pd.options.mode.chained_assignment = None  # default='warn'"
   ]
  },
  {
   "cell_type": "markdown",
   "metadata": {
    "hidden": true
   },
   "source": [
    "## 0.2. Helper Functions"
   ]
  },
  {
   "cell_type": "code",
   "execution_count": 2,
   "metadata": {
    "ExecuteTime": {
     "end_time": "2020-11-23T08:13:32.647581Z",
     "start_time": "2020-11-23T08:13:32.619869Z"
    },
    "hidden": true
   },
   "outputs": [],
   "source": [
    "def cramer_v(x,y):\n",
    "    cm = pd.crosstab(x, y).values\n",
    "    n = cm.sum()\n",
    "    r, k = cm.shape\n",
    "    chi2 = chi2_contingency (cm )[0]\n",
    "    \n",
    "    chi2corr = max(0, chi2 - (k-1)*(r-1)/(n-1))\n",
    "    \n",
    "    kcorr = k - (k-1)**2/(n-1)\n",
    "    \n",
    "    rcorr = r - (r-1)**2/(n-1)\n",
    "    \n",
    "    return np.sqrt( (chi2corr/n) / (min(kcorr-1, rcorr-1 )))\n",
    "\n",
    "def mean_absolute_percentage_error (y, yhat):\n",
    "    return np.mean(np.abs((y - yhat) / y))\n",
    "\n",
    "def ml_error (model_name, y, yhat):\n",
    "    mae = mean_absolute_error(y, yhat)\n",
    "    mape = mean_absolute_percentage_error(y, yhat)\n",
    "    rmse = np.sqrt(mean_squared_error(y, yhat))\n",
    "    return pd.DataFrame({ 'Model Name': model_name,\n",
    "                          'MAE': mae,\n",
    "                          'MAPE': mape,\n",
    "                          'RMSE': rmse}, index = [0])\n",
    "\n",
    "def cross_validation (x_training, kfold, model_name, model, verbose=False):\n",
    "    # error lists creation\n",
    "    mae_list = []\n",
    "    mape_list = []\n",
    "    rmse_list = []\n",
    "\n",
    "    for k in reversed(range(1, kfold+1)):\n",
    "        if verbose:\n",
    "            print('\\nKfold Number: {}'.format( k ) )\n",
    "            \n",
    "        # filtering dataset\n",
    "        validation_start_date = x_training['date'].max() - datetime.timedelta(days = k*6*7)\n",
    "        validation_end_date = x_training['date'].max() - datetime.timedelta(days = (k-1)*6*7)\n",
    "\n",
    "        validation = x_training[(x_training['date'] >= validation_start_date) & (x_training['date'] <= validation_end_date)]\n",
    "        training = x_training[x_training['date'] < validation_start_date]\n",
    "\n",
    "        # training dataset\n",
    "        xtraining = training.drop(['date', 'sales'], axis = 1)\n",
    "        ytraining = training['sales']\n",
    "\n",
    "        # validation dataset\n",
    "        xvalidation = validation.drop(['date', 'sales'], axis = 1)\n",
    "        yvalidation = validation['sales']\n",
    "\n",
    "        ## model\n",
    "        m = model.fit(xtraining, ytraining)\n",
    "\n",
    "        ## prediction\n",
    "        yhat = m.predict(xvalidation)\n",
    "\n",
    "        ## performance\n",
    "        m_result = ml_error(model_name, np.expm1(yvalidation), np.expm1(yhat))\n",
    "\n",
    "        # error lists value addition\n",
    "        mae_list.append(m_result['MAE'])\n",
    "        mape_list.append(m_result['MAPE'])\n",
    "        rmse_list.append(m_result['RMSE'])\n",
    "\n",
    "    \n",
    "    return pd.DataFrame({'Model Name': model_name,\n",
    "                         'MAE': np.round(np.mean(mae_list)).astype(str) + '+/-' + np.round(np.std(mae_list)).astype(str),\n",
    "                         'MAPE': np.round(np.mean(mape_list)).astype(str) + '+/-' + np.round(np.std(mape_list)).astype(str),\n",
    "                         'RSME': np.round(np.mean(rmse_list)).astype(str) + '+/-' + np.round(np.std(rmse_list)).astype(str)}, index=[0])"
   ]
  },
  {
   "cell_type": "markdown",
   "metadata": {
    "hidden": true
   },
   "source": [
    "## 0.3. Loading Data"
   ]
  },
  {
   "cell_type": "code",
   "execution_count": 3,
   "metadata": {
    "ExecuteTime": {
     "end_time": "2020-11-23T08:13:36.881923Z",
     "start_time": "2020-11-23T08:13:35.705731Z"
    },
    "hidden": true
   },
   "outputs": [],
   "source": [
    "df_sales_raw = pd.read_csv('data/train.csv', low_memory=False)\n",
    "df_store_raw = pd.read_csv('data/store.csv', low_memory=False)\n",
    "\n",
    "# merge\n",
    "df_raw = pd.merge(df_sales_raw, df_store_raw, how='left', on = 'Store')"
   ]
  },
  {
   "cell_type": "markdown",
   "metadata": {
    "hidden": true
   },
   "source": [
    "## 0.4. Graph Visualization"
   ]
  },
  {
   "cell_type": "code",
   "execution_count": 41,
   "metadata": {
    "ExecuteTime": {
     "end_time": "2020-11-20T13:48:12.035443Z",
     "start_time": "2020-11-20T13:48:12.004830Z"
    },
    "hidden": true
   },
   "outputs": [
    {
     "name": "stdout",
     "output_type": "stream",
     "text": [
      "Populating the interactive namespace from numpy and matplotlib\n"
     ]
    },
    {
     "data": {
      "text/html": [
       "<style>.container { width:100% !important; }</style>"
      ],
      "text/plain": [
       "<IPython.core.display.HTML object>"
      ]
     },
     "metadata": {},
     "output_type": "display_data"
    }
   ],
   "source": [
    "from IPython.core.display import HTML\n",
    "\n",
    "def jupyter_settings():\n",
    "   %matplotlib inline\n",
    "   %pylab inline\n",
    "   plt.style.use( 'bmh' )\n",
    "   plt.rcParams['figure.figsize'] = [18, 8]\n",
    "   plt.rcParams['font.size'] = 20\n",
    "   display( HTML( '<style>.container { width:100% !important; }</style>') )\n",
    "   pd.options.display.max_columns = None\n",
    "   pd.options.display.max_rows = None\n",
    "   pd.set_option( 'display.expand_frame_repr', False )\n",
    "   sns.set()\n",
    "    \n",
    "jupyter_settings()"
   ]
  },
  {
   "cell_type": "markdown",
   "metadata": {
    "heading_collapsed": true
   },
   "source": [
    "# 1. DESCRIBE DATA"
   ]
  },
  {
   "cell_type": "code",
   "execution_count": 42,
   "metadata": {
    "ExecuteTime": {
     "end_time": "2020-11-20T13:48:13.519258Z",
     "start_time": "2020-11-20T13:48:13.462471Z"
    },
    "hidden": true
   },
   "outputs": [],
   "source": [
    "df1 = df_raw.copy()"
   ]
  },
  {
   "cell_type": "markdown",
   "metadata": {
    "hidden": true
   },
   "source": [
    "## 1.1. Rename Columns"
   ]
  },
  {
   "cell_type": "code",
   "execution_count": 43,
   "metadata": {
    "ExecuteTime": {
     "end_time": "2020-11-20T13:48:14.474714Z",
     "start_time": "2020-11-20T13:48:14.467125Z"
    },
    "hidden": true
   },
   "outputs": [],
   "source": [
    "# list(df1.columns)\n",
    "\n",
    "cols_old = ['Store', 'DayOfWeek', 'Date', 'Sales', 'Customers', 'Open', 'Promo', 'StateHoliday',\n",
    "            'SchoolHoliday', 'StoreType', 'Assortment', 'CompetitionDistance', 'CompetitionOpenSinceMonth',\n",
    "            'CompetitionOpenSinceYear', 'Promo2', 'Promo2SinceWeek', 'Promo2SinceYear', 'PromoInterval']\n",
    "\n",
    "# CamelCase to SnakeCase\n",
    "snakecase = lambda x: inflection.underscore(x)\n",
    "\n",
    "cols_new = list( map( snakecase, cols_old ) )\n",
    "\n",
    "# rename\n",
    "df1.columns = cols_new"
   ]
  },
  {
   "cell_type": "markdown",
   "metadata": {
    "ExecuteTime": {
     "end_time": "2020-11-09T09:33:35.396883Z",
     "start_time": "2020-11-09T09:33:35.394146Z"
    },
    "hidden": true
   },
   "source": [
    "## 1.2. Data Dimensions"
   ]
  },
  {
   "cell_type": "code",
   "execution_count": 44,
   "metadata": {
    "ExecuteTime": {
     "end_time": "2020-11-20T13:48:15.324721Z",
     "start_time": "2020-11-20T13:48:15.319459Z"
    },
    "hidden": true,
    "scrolled": true
   },
   "outputs": [
    {
     "name": "stdout",
     "output_type": "stream",
     "text": [
      "Number of Rows: 1017209\n",
      "Number of Columns: 18\n"
     ]
    }
   ],
   "source": [
    "print('Number of Rows: {}'.format(df1.shape[0]))\n",
    "print('Number of Columns: {}'.format(df1.shape[1]))"
   ]
  },
  {
   "cell_type": "markdown",
   "metadata": {
    "hidden": true
   },
   "source": [
    "## 1.3. Data Types"
   ]
  },
  {
   "cell_type": "code",
   "execution_count": 45,
   "metadata": {
    "ExecuteTime": {
     "end_time": "2020-11-20T13:48:16.720022Z",
     "start_time": "2020-11-20T13:48:16.466754Z"
    },
    "hidden": true
   },
   "outputs": [
    {
     "data": {
      "text/html": [
       "<div>\n",
       "<style scoped>\n",
       "    .dataframe tbody tr th:only-of-type {\n",
       "        vertical-align: middle;\n",
       "    }\n",
       "\n",
       "    .dataframe tbody tr th {\n",
       "        vertical-align: top;\n",
       "    }\n",
       "\n",
       "    .dataframe thead th {\n",
       "        text-align: right;\n",
       "    }\n",
       "</style>\n",
       "<table border=\"1\" class=\"dataframe\">\n",
       "  <thead>\n",
       "    <tr style=\"text-align: right;\">\n",
       "      <th></th>\n",
       "      <th>store</th>\n",
       "      <th>day_of_week</th>\n",
       "      <th>date</th>\n",
       "      <th>sales</th>\n",
       "      <th>customers</th>\n",
       "      <th>open</th>\n",
       "      <th>promo</th>\n",
       "      <th>state_holiday</th>\n",
       "      <th>school_holiday</th>\n",
       "      <th>store_type</th>\n",
       "      <th>assortment</th>\n",
       "      <th>competition_distance</th>\n",
       "      <th>competition_open_since_month</th>\n",
       "      <th>competition_open_since_year</th>\n",
       "      <th>promo2</th>\n",
       "      <th>promo2_since_week</th>\n",
       "      <th>promo2_since_year</th>\n",
       "      <th>promo_interval</th>\n",
       "    </tr>\n",
       "  </thead>\n",
       "  <tbody>\n",
       "    <tr>\n",
       "      <th>13685</th>\n",
       "      <td>306</td>\n",
       "      <td>7</td>\n",
       "      <td>2015-07-19</td>\n",
       "      <td>0</td>\n",
       "      <td>0</td>\n",
       "      <td>0</td>\n",
       "      <td>0</td>\n",
       "      <td>0</td>\n",
       "      <td>0</td>\n",
       "      <td>a</td>\n",
       "      <td>a</td>\n",
       "      <td>5100.0</td>\n",
       "      <td>4.0</td>\n",
       "      <td>2007.0</td>\n",
       "      <td>1</td>\n",
       "      <td>40.0</td>\n",
       "      <td>2014.0</td>\n",
       "      <td>Jan,Apr,Jul,Oct</td>\n",
       "    </tr>\n",
       "  </tbody>\n",
       "</table>\n",
       "</div>"
      ],
      "text/plain": [
       "       store  day_of_week        date  sales  customers  open  promo state_holiday  school_holiday store_type assortment  competition_distance  competition_open_since_month  competition_open_since_year  promo2  promo2_since_week  promo2_since_year   promo_interval\n",
       "13685    306            7  2015-07-19      0          0     0      0             0               0          a          a                5100.0                           4.0                       2007.0       1               40.0             2014.0  Jan,Apr,Jul,Oct"
      ]
     },
     "execution_count": 45,
     "metadata": {},
     "output_type": "execute_result"
    }
   ],
   "source": [
    "df1.sample()"
   ]
  },
  {
   "cell_type": "code",
   "execution_count": 46,
   "metadata": {
    "ExecuteTime": {
     "end_time": "2020-11-20T13:48:17.326729Z",
     "start_time": "2020-11-20T13:48:17.161359Z"
    },
    "hidden": true
   },
   "outputs": [
    {
     "data": {
      "text/plain": [
       "store                                    int64\n",
       "day_of_week                              int64\n",
       "date                            datetime64[ns]\n",
       "sales                                    int64\n",
       "customers                                int64\n",
       "open                                     int64\n",
       "promo                                    int64\n",
       "state_holiday                           object\n",
       "school_holiday                           int64\n",
       "store_type                              object\n",
       "assortment                              object\n",
       "competition_distance                   float64\n",
       "competition_open_since_month           float64\n",
       "competition_open_since_year            float64\n",
       "promo2                                   int64\n",
       "promo2_since_week                      float64\n",
       "promo2_since_year                      float64\n",
       "promo_interval                          object\n",
       "dtype: object"
      ]
     },
     "execution_count": 46,
     "metadata": {},
     "output_type": "execute_result"
    }
   ],
   "source": [
    "df1['date'] = pd.to_datetime(df1['date'])\n",
    "df1.dtypes"
   ]
  },
  {
   "cell_type": "markdown",
   "metadata": {
    "hidden": true
   },
   "source": [
    "## 1.4. Check NA"
   ]
  },
  {
   "cell_type": "code",
   "execution_count": 47,
   "metadata": {
    "ExecuteTime": {
     "end_time": "2020-11-20T13:48:18.242596Z",
     "start_time": "2020-11-20T13:48:17.927188Z"
    },
    "hidden": true
   },
   "outputs": [
    {
     "data": {
      "text/plain": [
       "store                                0\n",
       "day_of_week                          0\n",
       "date                                 0\n",
       "sales                                0\n",
       "customers                            0\n",
       "open                                 0\n",
       "promo                                0\n",
       "state_holiday                        0\n",
       "school_holiday                       0\n",
       "store_type                           0\n",
       "assortment                           0\n",
       "competition_distance              2642\n",
       "competition_open_since_month    323348\n",
       "competition_open_since_year     323348\n",
       "promo2                               0\n",
       "promo2_since_week               508031\n",
       "promo2_since_year               508031\n",
       "promo_interval                  508031\n",
       "dtype: int64"
      ]
     },
     "execution_count": 47,
     "metadata": {},
     "output_type": "execute_result"
    }
   ],
   "source": [
    "df1.isna().sum()"
   ]
  },
  {
   "cell_type": "markdown",
   "metadata": {
    "hidden": true
   },
   "source": [
    "## 1.5. Fillout NA"
   ]
  },
  {
   "cell_type": "code",
   "execution_count": 48,
   "metadata": {
    "ExecuteTime": {
     "end_time": "2020-11-20T13:48:35.540125Z",
     "start_time": "2020-11-20T13:48:18.624610Z"
    },
    "hidden": true
   },
   "outputs": [
    {
     "name": "stderr",
     "output_type": "stream",
     "text": [
      "<ipython-input-48-669cc2e20aaf>:18: FutureWarning: Series.dt.weekofyear and Series.dt.week have been deprecated.  Please use Series.dt.isocalendar().week instead.\n",
      "  df1['promo2_since_week'] = df1['promo2_since_week'].fillna(df1['date'].dt.week)\n"
     ]
    }
   ],
   "source": [
    "# competition_distance (2642 NAs)\n",
    "\n",
    "# df1['competition_distance'].max() = 75860.0\n",
    "\n",
    "df1['competition_distance'] = df1['competition_distance'].fillna(200000)\n",
    "\n",
    "\n",
    "# competition_open_since_month (323348 NAs)\n",
    "df1['competition_open_since_month'] = df1['competition_open_since_month'].fillna(df1['date'].dt.month)\n",
    "# similarly: df1['competition_open_since_month'] = df1.apply( lambda x: x['date'].month if math.isnan( x['competition_open_since_month'] ) else x['competition_open_since_month'], axis=1 )\n",
    "\n",
    "\n",
    "# competition_open_since_year (323348 NAs)\n",
    "df1['competition_open_since_year'] = df1['competition_open_since_year'].fillna(df1['date'].dt.year)\n",
    "\n",
    "\n",
    "# promo2_since_week (508031 NAs)\n",
    "df1['promo2_since_week'] = df1['promo2_since_week'].fillna(df1['date'].dt.week)\n",
    "\n",
    "\n",
    "# promo2_since_year (508031 NAs)\n",
    "df1['promo2_since_year'] = df1['promo2_since_year'].fillna(df1['date'].dt.year)\n",
    "\n",
    "\n",
    "# promo_interval (508031 NAs)\n",
    "month_map = {1: 'Jan',\n",
    "             2: 'Feb',\n",
    "             3: 'Mar',\n",
    "             4: 'Apr',\n",
    "             5: 'May',\n",
    "             6: 'Jun',\n",
    "             7: 'Jul',\n",
    "             8: 'Aug',\n",
    "             9: 'Sep',\n",
    "             10: 'Oct',\n",
    "             11: 'Nov',\n",
    "             12: 'Dec'}\n",
    "\n",
    "df1['promo_interval'].fillna(0, inplace=True )\n",
    "\n",
    "df1['month_map'] = df1['date'].dt.month.map( month_map )\n",
    "\n",
    "# New variable: check if sales date was in the period of promotion\n",
    "df1['is_promo'] = df1[['promo_interval', 'month_map']].apply( lambda x: 0 if x['promo_interval'] == 0 else 1 if x['month_map'] in x['promo_interval'].split( ',' ) else 0, axis=1 )"
   ]
  },
  {
   "cell_type": "markdown",
   "metadata": {
    "hidden": true
   },
   "source": [
    "## 1.6. Change Data Type"
   ]
  },
  {
   "cell_type": "code",
   "execution_count": 49,
   "metadata": {
    "ExecuteTime": {
     "end_time": "2020-11-20T13:48:35.612076Z",
     "start_time": "2020-11-20T13:48:35.545711Z"
    },
    "hidden": true
   },
   "outputs": [
    {
     "data": {
      "text/plain": [
       "store                                    int64\n",
       "day_of_week                              int64\n",
       "date                            datetime64[ns]\n",
       "sales                                    int64\n",
       "customers                                int64\n",
       "open                                     int64\n",
       "promo                                    int64\n",
       "state_holiday                           object\n",
       "school_holiday                           int64\n",
       "store_type                              object\n",
       "assortment                              object\n",
       "competition_distance                   float64\n",
       "competition_open_since_month             int64\n",
       "competition_open_since_year              int64\n",
       "promo2                                   int64\n",
       "promo2_since_week                        int64\n",
       "promo2_since_year                        int64\n",
       "promo_interval                          object\n",
       "month_map                               object\n",
       "is_promo                                 int64\n",
       "dtype: object"
      ]
     },
     "execution_count": 49,
     "metadata": {},
     "output_type": "execute_result"
    }
   ],
   "source": [
    "# competition\n",
    "df1['competition_open_since_month'] = df1['competition_open_since_month'].astype(int)\n",
    "df1['competition_open_since_year'] = df1['competition_open_since_year'].astype(int)\n",
    "    \n",
    "# promo2\n",
    "df1['promo2_since_week'] = df1['promo2_since_week'].astype(int)\n",
    "df1['promo2_since_year'] = df1['promo2_since_year'].astype(int)\n",
    "\n",
    "df1.dtypes"
   ]
  },
  {
   "cell_type": "markdown",
   "metadata": {
    "hidden": true
   },
   "source": [
    "## 1.7. Descriptive Statistics"
   ]
  },
  {
   "cell_type": "code",
   "execution_count": 50,
   "metadata": {
    "ExecuteTime": {
     "end_time": "2020-11-20T13:48:35.844605Z",
     "start_time": "2020-11-20T13:48:35.616018Z"
    },
    "hidden": true
   },
   "outputs": [],
   "source": [
    "num_attributes = df1.select_dtypes(include = ['int64', 'float64'])\n",
    "cat_attributes = df1.select_dtypes(exclude = ['int64', 'float64', 'datetime64[ns]'])"
   ]
  },
  {
   "cell_type": "markdown",
   "metadata": {
    "hidden": true
   },
   "source": [
    "### 1.7.1. Numerical Variables"
   ]
  },
  {
   "cell_type": "code",
   "execution_count": 51,
   "metadata": {
    "ExecuteTime": {
     "end_time": "2020-11-20T13:48:36.739145Z",
     "start_time": "2020-11-20T13:48:35.847419Z"
    },
    "hidden": true,
    "scrolled": true
   },
   "outputs": [
    {
     "data": {
      "text/html": [
       "<div>\n",
       "<style scoped>\n",
       "    .dataframe tbody tr th:only-of-type {\n",
       "        vertical-align: middle;\n",
       "    }\n",
       "\n",
       "    .dataframe tbody tr th {\n",
       "        vertical-align: top;\n",
       "    }\n",
       "\n",
       "    .dataframe thead th {\n",
       "        text-align: right;\n",
       "    }\n",
       "</style>\n",
       "<table border=\"1\" class=\"dataframe\">\n",
       "  <thead>\n",
       "    <tr style=\"text-align: right;\">\n",
       "      <th></th>\n",
       "      <th>mean</th>\n",
       "      <th>median</th>\n",
       "      <th>std</th>\n",
       "      <th>min</th>\n",
       "      <th>max</th>\n",
       "      <th>range</th>\n",
       "      <th>skew</th>\n",
       "      <th>kurtosis</th>\n",
       "    </tr>\n",
       "  </thead>\n",
       "  <tbody>\n",
       "    <tr>\n",
       "      <th>store</th>\n",
       "      <td>558.429727</td>\n",
       "      <td>558.0</td>\n",
       "      <td>321.908651</td>\n",
       "      <td>1.0</td>\n",
       "      <td>1115.0</td>\n",
       "      <td>1114.0</td>\n",
       "      <td>-0.000955</td>\n",
       "      <td>-1.200524</td>\n",
       "    </tr>\n",
       "    <tr>\n",
       "      <th>day_of_week</th>\n",
       "      <td>3.998341</td>\n",
       "      <td>4.0</td>\n",
       "      <td>1.997391</td>\n",
       "      <td>1.0</td>\n",
       "      <td>7.0</td>\n",
       "      <td>6.0</td>\n",
       "      <td>0.001593</td>\n",
       "      <td>-1.246873</td>\n",
       "    </tr>\n",
       "    <tr>\n",
       "      <th>sales</th>\n",
       "      <td>5773.818972</td>\n",
       "      <td>5744.0</td>\n",
       "      <td>3849.926175</td>\n",
       "      <td>0.0</td>\n",
       "      <td>41551.0</td>\n",
       "      <td>41551.0</td>\n",
       "      <td>0.641460</td>\n",
       "      <td>1.778375</td>\n",
       "    </tr>\n",
       "    <tr>\n",
       "      <th>customers</th>\n",
       "      <td>633.145946</td>\n",
       "      <td>609.0</td>\n",
       "      <td>464.411734</td>\n",
       "      <td>0.0</td>\n",
       "      <td>7388.0</td>\n",
       "      <td>7388.0</td>\n",
       "      <td>1.598650</td>\n",
       "      <td>7.091773</td>\n",
       "    </tr>\n",
       "    <tr>\n",
       "      <th>open</th>\n",
       "      <td>0.830107</td>\n",
       "      <td>1.0</td>\n",
       "      <td>0.375539</td>\n",
       "      <td>0.0</td>\n",
       "      <td>1.0</td>\n",
       "      <td>1.0</td>\n",
       "      <td>-1.758045</td>\n",
       "      <td>1.090723</td>\n",
       "    </tr>\n",
       "    <tr>\n",
       "      <th>promo</th>\n",
       "      <td>0.381515</td>\n",
       "      <td>0.0</td>\n",
       "      <td>0.485759</td>\n",
       "      <td>0.0</td>\n",
       "      <td>1.0</td>\n",
       "      <td>1.0</td>\n",
       "      <td>0.487838</td>\n",
       "      <td>-1.762018</td>\n",
       "    </tr>\n",
       "    <tr>\n",
       "      <th>school_holiday</th>\n",
       "      <td>0.178647</td>\n",
       "      <td>0.0</td>\n",
       "      <td>0.383056</td>\n",
       "      <td>0.0</td>\n",
       "      <td>1.0</td>\n",
       "      <td>1.0</td>\n",
       "      <td>1.677842</td>\n",
       "      <td>0.815154</td>\n",
       "    </tr>\n",
       "    <tr>\n",
       "      <th>competition_distance</th>\n",
       "      <td>5935.442677</td>\n",
       "      <td>2330.0</td>\n",
       "      <td>12547.652996</td>\n",
       "      <td>20.0</td>\n",
       "      <td>200000.0</td>\n",
       "      <td>199980.0</td>\n",
       "      <td>10.242344</td>\n",
       "      <td>147.789712</td>\n",
       "    </tr>\n",
       "    <tr>\n",
       "      <th>competition_open_since_month</th>\n",
       "      <td>6.786849</td>\n",
       "      <td>7.0</td>\n",
       "      <td>3.311087</td>\n",
       "      <td>1.0</td>\n",
       "      <td>12.0</td>\n",
       "      <td>11.0</td>\n",
       "      <td>-0.042076</td>\n",
       "      <td>-1.232607</td>\n",
       "    </tr>\n",
       "    <tr>\n",
       "      <th>competition_open_since_year</th>\n",
       "      <td>2010.324840</td>\n",
       "      <td>2012.0</td>\n",
       "      <td>5.515593</td>\n",
       "      <td>1900.0</td>\n",
       "      <td>2015.0</td>\n",
       "      <td>115.0</td>\n",
       "      <td>-7.235657</td>\n",
       "      <td>124.071304</td>\n",
       "    </tr>\n",
       "    <tr>\n",
       "      <th>promo2</th>\n",
       "      <td>0.500564</td>\n",
       "      <td>1.0</td>\n",
       "      <td>0.500000</td>\n",
       "      <td>0.0</td>\n",
       "      <td>1.0</td>\n",
       "      <td>1.0</td>\n",
       "      <td>-0.002255</td>\n",
       "      <td>-1.999999</td>\n",
       "    </tr>\n",
       "    <tr>\n",
       "      <th>promo2_since_week</th>\n",
       "      <td>23.619033</td>\n",
       "      <td>22.0</td>\n",
       "      <td>14.310064</td>\n",
       "      <td>1.0</td>\n",
       "      <td>52.0</td>\n",
       "      <td>51.0</td>\n",
       "      <td>0.178723</td>\n",
       "      <td>-1.184046</td>\n",
       "    </tr>\n",
       "    <tr>\n",
       "      <th>promo2_since_year</th>\n",
       "      <td>2012.793297</td>\n",
       "      <td>2013.0</td>\n",
       "      <td>1.662658</td>\n",
       "      <td>2009.0</td>\n",
       "      <td>2015.0</td>\n",
       "      <td>6.0</td>\n",
       "      <td>-0.784436</td>\n",
       "      <td>-0.210075</td>\n",
       "    </tr>\n",
       "    <tr>\n",
       "      <th>is_promo</th>\n",
       "      <td>0.165966</td>\n",
       "      <td>0.0</td>\n",
       "      <td>0.372050</td>\n",
       "      <td>0.0</td>\n",
       "      <td>1.0</td>\n",
       "      <td>1.0</td>\n",
       "      <td>1.795644</td>\n",
       "      <td>1.224338</td>\n",
       "    </tr>\n",
       "  </tbody>\n",
       "</table>\n",
       "</div>"
      ],
      "text/plain": [
       "                                     mean  median           std     min       max     range       skew    kurtosis\n",
       "store                          558.429727   558.0    321.908651     1.0    1115.0    1114.0  -0.000955   -1.200524\n",
       "day_of_week                      3.998341     4.0      1.997391     1.0       7.0       6.0   0.001593   -1.246873\n",
       "sales                         5773.818972  5744.0   3849.926175     0.0   41551.0   41551.0   0.641460    1.778375\n",
       "customers                      633.145946   609.0    464.411734     0.0    7388.0    7388.0   1.598650    7.091773\n",
       "open                             0.830107     1.0      0.375539     0.0       1.0       1.0  -1.758045    1.090723\n",
       "promo                            0.381515     0.0      0.485759     0.0       1.0       1.0   0.487838   -1.762018\n",
       "school_holiday                   0.178647     0.0      0.383056     0.0       1.0       1.0   1.677842    0.815154\n",
       "competition_distance          5935.442677  2330.0  12547.652996    20.0  200000.0  199980.0  10.242344  147.789712\n",
       "competition_open_since_month     6.786849     7.0      3.311087     1.0      12.0      11.0  -0.042076   -1.232607\n",
       "competition_open_since_year   2010.324840  2012.0      5.515593  1900.0    2015.0     115.0  -7.235657  124.071304\n",
       "promo2                           0.500564     1.0      0.500000     0.0       1.0       1.0  -0.002255   -1.999999\n",
       "promo2_since_week               23.619033    22.0     14.310064     1.0      52.0      51.0   0.178723   -1.184046\n",
       "promo2_since_year             2012.793297  2013.0      1.662658  2009.0    2015.0       6.0  -0.784436   -0.210075\n",
       "is_promo                         0.165966     0.0      0.372050     0.0       1.0       1.0   1.795644    1.224338"
      ]
     },
     "execution_count": 51,
     "metadata": {},
     "output_type": "execute_result"
    }
   ],
   "source": [
    "# Central Tendency - Mean, Median\n",
    "ct1 = pd.DataFrame(num_attributes.mean())\n",
    "ct2 = pd.DataFrame(num_attributes.median())\n",
    "\n",
    "# Dispersion - Std, Min, Max, Range, Skew, Kurtosis\n",
    "d1 = pd.DataFrame(num_attributes.std())\n",
    "d2 = pd.DataFrame(num_attributes.min())\n",
    "d3 = pd.DataFrame(num_attributes.max())\n",
    "d4 = pd.DataFrame(num_attributes.max() - num_attributes.min())\n",
    "d5 = pd.DataFrame(num_attributes.skew())\n",
    "d6 = pd.DataFrame(num_attributes.kurtosis())\n",
    "\n",
    "# concat\n",
    "df_num = pd.concat([ct1, ct2, d1, d2, d3, d4, d5, d6], axis = 1)\n",
    "df_num.columns = ['mean', 'median', 'std', 'min', 'max', 'range', 'skew', 'kurtosis']\n",
    "df_num"
   ]
  },
  {
   "cell_type": "code",
   "execution_count": 52,
   "metadata": {
    "ExecuteTime": {
     "end_time": "2020-11-20T13:48:41.857736Z",
     "start_time": "2020-11-20T13:48:36.742837Z"
    },
    "hidden": true
   },
   "outputs": [
    {
     "data": {
      "image/png": "[encoded data removed]",
      "text/plain": [
       "<Figure size 360x360 with 1 Axes>"
      ]
     },
     "metadata": {},
     "output_type": "display_data"
    }
   ],
   "source": [
    "sns.displot(df1['competition_distance'], kde = False);"
   ]
  },
  {
   "cell_type": "markdown",
   "metadata": {
    "hidden": true
   },
   "source": [
    "### 1.7.2. Categorical Variables"
   ]
  },
  {
   "cell_type": "code",
   "execution_count": 53,
   "metadata": {
    "ExecuteTime": {
     "end_time": "2020-11-20T13:48:42.159471Z",
     "start_time": "2020-11-20T13:48:41.860628Z"
    },
    "hidden": true
   },
   "outputs": [
    {
     "data": {
      "text/plain": [
       "state_holiday      4\n",
       "store_type         4\n",
       "assortment         3\n",
       "promo_interval     4\n",
       "month_map         12\n",
       "dtype: int64"
      ]
     },
     "execution_count": 53,
     "metadata": {},
     "output_type": "execute_result"
    }
   ],
   "source": [
    "cat_attributes.apply( lambda x: x.unique().shape[0])"
   ]
  },
  {
   "cell_type": "code",
   "execution_count": 54,
   "metadata": {
    "ExecuteTime": {
     "end_time": "2020-11-20T13:48:42.991945Z",
     "start_time": "2020-11-20T13:48:42.162299Z"
    },
    "hidden": true
   },
   "outputs": [
    {
     "data": {
      "image/png": "[encoded data removed]",
      "text/plain": [
       "<Figure size 1296x576 with 3 Axes>"
      ]
     },
     "metadata": {},
     "output_type": "display_data"
    }
   ],
   "source": [
    "aux1 = df1[(df1['state_holiday'] != '0') & (df1['sales'] > 0)] # filtering data for better visualization\n",
    "\n",
    "plt.subplot(1,3,1)\n",
    "sns.boxplot(x = 'state_holiday', y = 'sales', data = aux1);\n",
    "\n",
    "plt.subplot(1,3,2)\n",
    "sns.boxplot(x = 'store_type', y = 'sales', data = aux1);\n",
    "\n",
    "plt.subplot(1,3,3)\n",
    "sns.boxplot(x = 'assortment', y = 'sales', data = aux1);"
   ]
  },
  {
   "cell_type": "markdown",
   "metadata": {
    "heading_collapsed": true
   },
   "source": [
    "# 2. FEATURE ENGINEERING"
   ]
  },
  {
   "cell_type": "code",
   "execution_count": 55,
   "metadata": {
    "ExecuteTime": {
     "end_time": "2020-11-20T13:48:43.114368Z",
     "start_time": "2020-11-20T13:48:42.996730Z"
    },
    "hidden": true
   },
   "outputs": [],
   "source": [
    "df2 = df1.copy()"
   ]
  },
  {
   "cell_type": "markdown",
   "metadata": {
    "heading_collapsed": true,
    "hidden": true
   },
   "source": [
    "## 2.1. Hypothesis Mind Map"
   ]
  },
  {
   "cell_type": "code",
   "execution_count": null,
   "metadata": {
    "ExecuteTime": {
     "end_time": "2020-11-17T09:36:50.484603Z",
     "start_time": "2020-11-17T09:36:44.779Z"
    },
    "hidden": true
   },
   "outputs": [],
   "source": [
    "Image(filename='Daily_Store_Sales.png')"
   ]
  },
  {
   "cell_type": "markdown",
   "metadata": {
    "heading_collapsed": true,
    "hidden": true
   },
   "source": [
    "## 2.2. Hypothesis Development"
   ]
  },
  {
   "cell_type": "markdown",
   "metadata": {
    "hidden": true
   },
   "source": [
    "Creation of hypothesis for each category in the Mind Map, while related to the response variable << **sales** >> .\n",
    "\n",
    "PS.: Clients & Location: none information on dataset"
   ]
  },
  {
   "cell_type": "markdown",
   "metadata": {
    "ExecuteTime": {
     "end_time": "2020-11-10T08:42:13.115001Z",
     "start_time": "2020-11-10T08:42:13.111972Z"
    },
    "heading_collapsed": true,
    "hidden": true
   },
   "source": [
    "### 2.2.1. Store Hypothesis"
   ]
  },
  {
   "cell_type": "markdown",
   "metadata": {
    "hidden": true
   },
   "source": [
    "**1.** Stores with **more diversified products** should sell **more**\n",
    "\n",
    "**2.** Stores with **closer competitors** should sell **less**"
   ]
  },
  {
   "cell_type": "markdown",
   "metadata": {
    "ExecuteTime": {
     "end_time": "2020-11-10T08:42:13.115001Z",
     "start_time": "2020-11-10T08:42:13.111972Z"
    },
    "heading_collapsed": true,
    "hidden": true
   },
   "source": [
    "### 2.2.2. Product Hypothesis"
   ]
  },
  {
   "cell_type": "markdown",
   "metadata": {
    "hidden": true
   },
   "source": [
    "**1.** Stores with **longer active promotions** should sell **more**\n",
    "\n",
    "**2.** Stores with **more consecutive promotions** should sell **more**"
   ]
  },
  {
   "cell_type": "markdown",
   "metadata": {
    "ExecuteTime": {
     "end_time": "2020-11-10T08:42:13.115001Z",
     "start_time": "2020-11-10T08:42:13.111972Z"
    },
    "heading_collapsed": true,
    "hidden": true
   },
   "source": [
    "### 2.2.3. Time Series Hypothesis"
   ]
  },
  {
   "cell_type": "markdown",
   "metadata": {
    "hidden": true
   },
   "source": [
    "**1.** Stores, during **school holidays**, should sell **more**\n",
    "\n",
    "**2.** Stores, in **Christmas period**, should sell **more** than during other holidays\n",
    "\n",
    "**3.** Stores, during **weekends**, should sell **less**\n",
    "\n",
    "**4.** At the **first half of the month**, stores should sell **more**\n",
    "\n",
    "**5** In the **first semester of the year**, stores should sell **less**\n",
    "\n",
    "**6.** **Throughout the years**, stores should sell **more**."
   ]
  },
  {
   "cell_type": "markdown",
   "metadata": {
    "hidden": true
   },
   "source": [
    "## 2.3. Feature Engineering"
   ]
  },
  {
   "cell_type": "markdown",
   "metadata": {
    "hidden": true
   },
   "source": [
    "### 2.3.1. Created Columns"
   ]
  },
  {
   "cell_type": "code",
   "execution_count": 68,
   "metadata": {
    "ExecuteTime": {
     "end_time": "2020-11-20T13:51:41.741063Z",
     "start_time": "2020-11-20T13:51:41.704150Z"
    },
    "hidden": true
   },
   "outputs": [
    {
     "data": {
      "text/html": [
       "<div>\n",
       "<style scoped>\n",
       "    .dataframe tbody tr th:only-of-type {\n",
       "        vertical-align: middle;\n",
       "    }\n",
       "\n",
       "    .dataframe tbody tr th {\n",
       "        vertical-align: top;\n",
       "    }\n",
       "\n",
       "    .dataframe thead th {\n",
       "        text-align: right;\n",
       "    }\n",
       "</style>\n",
       "<table border=\"1\" class=\"dataframe\">\n",
       "  <thead>\n",
       "    <tr style=\"text-align: right;\">\n",
       "      <th></th>\n",
       "      <th>store</th>\n",
       "      <th>day_of_week</th>\n",
       "      <th>date</th>\n",
       "      <th>sales</th>\n",
       "      <th>customers</th>\n",
       "      <th>open</th>\n",
       "      <th>promo</th>\n",
       "      <th>state_holiday</th>\n",
       "      <th>school_holiday</th>\n",
       "      <th>store_type</th>\n",
       "      <th>assortment</th>\n",
       "      <th>competition_distance</th>\n",
       "      <th>competition_open_since_month</th>\n",
       "      <th>competition_open_since_year</th>\n",
       "      <th>promo2</th>\n",
       "      <th>promo2_since_week</th>\n",
       "      <th>promo2_since_year</th>\n",
       "      <th>promo_interval</th>\n",
       "      <th>month_map</th>\n",
       "      <th>is_promo</th>\n",
       "      <th>year</th>\n",
       "      <th>month</th>\n",
       "      <th>day</th>\n",
       "      <th>week_of_year</th>\n",
       "      <th>year_week</th>\n",
       "      <th>competition_since</th>\n",
       "      <th>competition_time_month</th>\n",
       "      <th>promo_since</th>\n",
       "      <th>promo_time_week</th>\n",
       "    </tr>\n",
       "  </thead>\n",
       "  <tbody>\n",
       "    <tr>\n",
       "      <th>0</th>\n",
       "      <td>1</td>\n",
       "      <td>5</td>\n",
       "      <td>2015-07-31</td>\n",
       "      <td>5263</td>\n",
       "      <td>555</td>\n",
       "      <td>1</td>\n",
       "      <td>1</td>\n",
       "      <td>regular_day</td>\n",
       "      <td>1</td>\n",
       "      <td>c</td>\n",
       "      <td>basic</td>\n",
       "      <td>1270.0</td>\n",
       "      <td>9</td>\n",
       "      <td>2008</td>\n",
       "      <td>0</td>\n",
       "      <td>31</td>\n",
       "      <td>2015</td>\n",
       "      <td>0</td>\n",
       "      <td>Jul</td>\n",
       "      <td>0</td>\n",
       "      <td>2015</td>\n",
       "      <td>7</td>\n",
       "      <td>31</td>\n",
       "      <td>31</td>\n",
       "      <td>2015-30</td>\n",
       "      <td>2008-09-01</td>\n",
       "      <td>84</td>\n",
       "      <td>2015-07-27</td>\n",
       "      <td>0</td>\n",
       "    </tr>\n",
       "    <tr>\n",
       "      <th>1</th>\n",
       "      <td>2</td>\n",
       "      <td>5</td>\n",
       "      <td>2015-07-31</td>\n",
       "      <td>6064</td>\n",
       "      <td>625</td>\n",
       "      <td>1</td>\n",
       "      <td>1</td>\n",
       "      <td>regular_day</td>\n",
       "      <td>1</td>\n",
       "      <td>a</td>\n",
       "      <td>basic</td>\n",
       "      <td>570.0</td>\n",
       "      <td>11</td>\n",
       "      <td>2007</td>\n",
       "      <td>1</td>\n",
       "      <td>13</td>\n",
       "      <td>2010</td>\n",
       "      <td>Jan,Apr,Jul,Oct</td>\n",
       "      <td>Jul</td>\n",
       "      <td>1</td>\n",
       "      <td>2015</td>\n",
       "      <td>7</td>\n",
       "      <td>31</td>\n",
       "      <td>31</td>\n",
       "      <td>2015-30</td>\n",
       "      <td>2007-11-01</td>\n",
       "      <td>94</td>\n",
       "      <td>2010-03-22</td>\n",
       "      <td>279</td>\n",
       "    </tr>\n",
       "    <tr>\n",
       "      <th>2</th>\n",
       "      <td>3</td>\n",
       "      <td>5</td>\n",
       "      <td>2015-07-31</td>\n",
       "      <td>8314</td>\n",
       "      <td>821</td>\n",
       "      <td>1</td>\n",
       "      <td>1</td>\n",
       "      <td>regular_day</td>\n",
       "      <td>1</td>\n",
       "      <td>a</td>\n",
       "      <td>basic</td>\n",
       "      <td>14130.0</td>\n",
       "      <td>12</td>\n",
       "      <td>2006</td>\n",
       "      <td>1</td>\n",
       "      <td>14</td>\n",
       "      <td>2011</td>\n",
       "      <td>Jan,Apr,Jul,Oct</td>\n",
       "      <td>Jul</td>\n",
       "      <td>1</td>\n",
       "      <td>2015</td>\n",
       "      <td>7</td>\n",
       "      <td>31</td>\n",
       "      <td>31</td>\n",
       "      <td>2015-30</td>\n",
       "      <td>2006-12-01</td>\n",
       "      <td>105</td>\n",
       "      <td>2011-03-28</td>\n",
       "      <td>226</td>\n",
       "    </tr>\n",
       "    <tr>\n",
       "      <th>3</th>\n",
       "      <td>4</td>\n",
       "      <td>5</td>\n",
       "      <td>2015-07-31</td>\n",
       "      <td>13995</td>\n",
       "      <td>1498</td>\n",
       "      <td>1</td>\n",
       "      <td>1</td>\n",
       "      <td>regular_day</td>\n",
       "      <td>1</td>\n",
       "      <td>c</td>\n",
       "      <td>extended</td>\n",
       "      <td>620.0</td>\n",
       "      <td>9</td>\n",
       "      <td>2009</td>\n",
       "      <td>0</td>\n",
       "      <td>31</td>\n",
       "      <td>2015</td>\n",
       "      <td>0</td>\n",
       "      <td>Jul</td>\n",
       "      <td>0</td>\n",
       "      <td>2015</td>\n",
       "      <td>7</td>\n",
       "      <td>31</td>\n",
       "      <td>31</td>\n",
       "      <td>2015-30</td>\n",
       "      <td>2009-09-01</td>\n",
       "      <td>71</td>\n",
       "      <td>2015-07-27</td>\n",
       "      <td>0</td>\n",
       "    </tr>\n",
       "    <tr>\n",
       "      <th>4</th>\n",
       "      <td>5</td>\n",
       "      <td>5</td>\n",
       "      <td>2015-07-31</td>\n",
       "      <td>4822</td>\n",
       "      <td>559</td>\n",
       "      <td>1</td>\n",
       "      <td>1</td>\n",
       "      <td>regular_day</td>\n",
       "      <td>1</td>\n",
       "      <td>a</td>\n",
       "      <td>basic</td>\n",
       "      <td>29910.0</td>\n",
       "      <td>4</td>\n",
       "      <td>2015</td>\n",
       "      <td>0</td>\n",
       "      <td>31</td>\n",
       "      <td>2015</td>\n",
       "      <td>0</td>\n",
       "      <td>Jul</td>\n",
       "      <td>0</td>\n",
       "      <td>2015</td>\n",
       "      <td>7</td>\n",
       "      <td>31</td>\n",
       "      <td>31</td>\n",
       "      <td>2015-30</td>\n",
       "      <td>2015-04-01</td>\n",
       "      <td>4</td>\n",
       "      <td>2015-07-27</td>\n",
       "      <td>0</td>\n",
       "    </tr>\n",
       "  </tbody>\n",
       "</table>\n",
       "</div>"
      ],
      "text/plain": [
       "   store  day_of_week       date  sales  customers  open  promo state_holiday  school_holiday store_type assortment  competition_distance  competition_open_since_month  competition_open_since_year  promo2  promo2_since_week  promo2_since_year   promo_interval month_map  is_promo  year  month  day  week_of_year year_week competition_since  competition_time_month promo_since  promo_time_week\n",
       "0      1            5 2015-07-31   5263        555     1      1   regular_day               1          c      basic                1270.0                             9                         2008       0                 31               2015                0       Jul         0  2015      7   31            31   2015-30        2008-09-01                      84  2015-07-27                0\n",
       "1      2            5 2015-07-31   6064        625     1      1   regular_day               1          a      basic                 570.0                            11                         2007       1                 13               2010  Jan,Apr,Jul,Oct       Jul         1  2015      7   31            31   2015-30        2007-11-01                      94  2010-03-22              279\n",
       "2      3            5 2015-07-31   8314        821     1      1   regular_day               1          a      basic               14130.0                            12                         2006       1                 14               2011  Jan,Apr,Jul,Oct       Jul         1  2015      7   31            31   2015-30        2006-12-01                     105  2011-03-28              226\n",
       "3      4            5 2015-07-31  13995       1498     1      1   regular_day               1          c   extended                 620.0                             9                         2009       0                 31               2015                0       Jul         0  2015      7   31            31   2015-30        2009-09-01                      71  2015-07-27                0\n",
       "4      5            5 2015-07-31   4822        559     1      1   regular_day               1          a      basic               29910.0                             4                         2015       0                 31               2015                0       Jul         0  2015      7   31            31   2015-30        2015-04-01                       4  2015-07-27                0"
      ]
     },
     "execution_count": 68,
     "metadata": {},
     "output_type": "execute_result"
    }
   ],
   "source": [
    "df2.head()"
   ]
  },
  {
   "cell_type": "code",
   "execution_count": 57,
   "metadata": {
    "ExecuteTime": {
     "end_time": "2020-11-20T13:50:00.633446Z",
     "start_time": "2020-11-20T13:48:43.149385Z"
    },
    "hidden": true,
    "scrolled": false
   },
   "outputs": [
    {
     "name": "stderr",
     "output_type": "stream",
     "text": [
      "<ipython-input-57-86fe9e2cae40>:11: FutureWarning: Series.dt.weekofyear and Series.dt.week have been deprecated.  Please use Series.dt.isocalendar().week instead.\n",
      "  df2['week_of_year'] = df2['date'].dt.week\n"
     ]
    }
   ],
   "source": [
    "# year\n",
    "df2['year'] = df2['date'].dt.year\n",
    "\n",
    "# month\n",
    "df2['month'] = df2['date'].dt.month\n",
    "\n",
    "# day\n",
    "df2['day'] = df2['date'].dt.day\n",
    "\n",
    "# week_of_year\n",
    "df2['week_of_year'] = df2['date'].dt.week\n",
    "\n",
    "# year_week\n",
    "df2['year_week'] = df2['date'].dt.strftime('%Y-%W')\n",
    "\n",
    "###\n",
    "\n",
    "# competition_since\n",
    "df2['competition_since'] = df2.apply(lambda x: datetime.datetime(year = x['competition_open_since_year'], month = x['competition_open_since_month'], day = 1), axis = 1)\n",
    "df2['competition_time_month'] = ((df2['date'] - df2['competition_since'])/30).apply(lambda x: x.days).astype(int)\n",
    "\n",
    "# promo_since\n",
    "df2['promo_since'] = df2['promo2_since_year'].astype(str) + '-' + df2['promo2_since_week'].astype(str)\n",
    "df2['promo_since'] = df2['promo_since'].apply(lambda x: datetime.datetime.strptime(x + '-1', '%Y-%W-%w') - datetime.timedelta(days = 7))\n",
    "df2['promo_time_week'] = ((df2['date'] - df2['promo_since'])/7).apply(lambda x: x.days).astype(int)"
   ]
  },
  {
   "cell_type": "markdown",
   "metadata": {
    "hidden": true
   },
   "source": [
    "### 2.3.2. Modified Columns"
   ]
  },
  {
   "cell_type": "code",
   "execution_count": 58,
   "metadata": {
    "ExecuteTime": {
     "end_time": "2020-11-20T13:50:01.211396Z",
     "start_time": "2020-11-20T13:50:00.635308Z"
    },
    "hidden": true
   },
   "outputs": [],
   "source": [
    "# state_holiday\n",
    "df2['state_holiday'] = df2['state_holiday'].apply(lambda x: 'public_holiday' if x == 'a' else 'easter_holiday' if x == 'b' else 'christmas' if x == 'c' else 'regular_day')\n",
    "\n",
    "# assortment\n",
    "df2['assortment'] = df2['assortment'].apply(lambda x: 'basic' if x == 'a' else 'extra' if x == 'b' else 'extended')"
   ]
  },
  {
   "cell_type": "markdown",
   "metadata": {
    "heading_collapsed": true
   },
   "source": [
    "# 3. FILTERING VARIABLES"
   ]
  },
  {
   "cell_type": "code",
   "execution_count": 69,
   "metadata": {
    "ExecuteTime": {
     "end_time": "2020-11-20T13:51:49.438774Z",
     "start_time": "2020-11-20T13:51:49.261622Z"
    },
    "hidden": true
   },
   "outputs": [],
   "source": [
    "df3 = df2.copy()"
   ]
  },
  {
   "cell_type": "markdown",
   "metadata": {
    "hidden": true
   },
   "source": [
    "## 3.1. Filtering Rows"
   ]
  },
  {
   "cell_type": "code",
   "execution_count": 70,
   "metadata": {
    "ExecuteTime": {
     "end_time": "2020-11-20T13:51:52.391556Z",
     "start_time": "2020-11-20T13:51:52.035850Z"
    },
    "hidden": true
   },
   "outputs": [],
   "source": [
    "df3 = df3[(df3['open'] != 0) & (df3['sales'] > 0)]"
   ]
  },
  {
   "cell_type": "markdown",
   "metadata": {
    "hidden": true
   },
   "source": [
    "## 3.2. Columns Selection"
   ]
  },
  {
   "cell_type": "code",
   "execution_count": 71,
   "metadata": {
    "ExecuteTime": {
     "end_time": "2020-11-20T13:51:54.349380Z",
     "start_time": "2020-11-20T13:51:54.214732Z"
    },
    "code_folding": [],
    "hidden": true
   },
   "outputs": [],
   "source": [
    "cols_drop = ['customers', 'open', 'promo_interval', 'month_map']\n",
    "df3 = df3.drop(cols_drop, axis=1)"
   ]
  },
  {
   "cell_type": "markdown",
   "metadata": {
    "heading_collapsed": true
   },
   "source": [
    "# 4. EXPLORATORY DATA ANALYSIS (EDA)"
   ]
  },
  {
   "cell_type": "code",
   "execution_count": 72,
   "metadata": {
    "ExecuteTime": {
     "end_time": "2020-11-20T13:51:57.434441Z",
     "start_time": "2020-11-20T13:51:57.334799Z"
    },
    "hidden": true
   },
   "outputs": [],
   "source": [
    "df4 = df3.copy()"
   ]
  },
  {
   "cell_type": "markdown",
   "metadata": {
    "heading_collapsed": true,
    "hidden": true
   },
   "source": [
    "## 4.1. Univariate Analysis"
   ]
  },
  {
   "cell_type": "markdown",
   "metadata": {
    "heading_collapsed": true,
    "hidden": true
   },
   "source": [
    "### 4.1.1. Response Variable"
   ]
  },
  {
   "cell_type": "code",
   "execution_count": null,
   "metadata": {
    "ExecuteTime": {
     "end_time": "2020-11-17T09:36:50.492663Z",
     "start_time": "2020-11-17T09:36:44.831Z"
    },
    "hidden": true,
    "scrolled": true
   },
   "outputs": [],
   "source": [
    "sns.distplot(df4['sales']);"
   ]
  },
  {
   "cell_type": "markdown",
   "metadata": {
    "heading_collapsed": true,
    "hidden": true
   },
   "source": [
    "### 4.1.2. Numerical Variables"
   ]
  },
  {
   "cell_type": "code",
   "execution_count": null,
   "metadata": {
    "ExecuteTime": {
     "end_time": "2020-11-17T09:36:50.493653Z",
     "start_time": "2020-11-17T09:36:44.837Z"
    },
    "hidden": true,
    "scrolled": true
   },
   "outputs": [],
   "source": [
    "num_attributes.hist(bins = 25);"
   ]
  },
  {
   "cell_type": "markdown",
   "metadata": {
    "heading_collapsed": true,
    "hidden": true
   },
   "source": [
    "### 4.1.3. Categorical Variables"
   ]
  },
  {
   "cell_type": "code",
   "execution_count": null,
   "metadata": {
    "ExecuteTime": {
     "end_time": "2020-11-17T09:36:50.494666Z",
     "start_time": "2020-11-17T09:36:44.842Z"
    },
    "hidden": true
   },
   "outputs": [],
   "source": [
    "# state_holiday\n",
    "aux1 = df4[df4['state_holiday'] != 'regular_day']\n",
    "\n",
    "plt.subplot(3, 2, 1)\n",
    "sns.countplot(aux1['state_holiday']);\n",
    "\n",
    "plt.subplot(3, 2, 2)\n",
    "sns.kdeplot(df4[df4['state_holiday'] == 'public_holiday']['sales'], shade = True, label = 'public_holiday');\n",
    "sns.kdeplot(df4[df4['state_holiday'] == 'easter_holiday']['sales'], shade = True, label = 'easter_holiday');\n",
    "sns.kdeplot(df4[df4['state_holiday'] == 'christmas']['sales'], shade = True, label = 'christmas');\n",
    "plt.legend();\n",
    "\n",
    "\n",
    "# store_type\n",
    "plt.subplot(3, 2, 3)\n",
    "sns.countplot(df4['store_type']);\n",
    "\n",
    "plt.subplot(3, 2, 4)\n",
    "sns.kdeplot(df4[df4['store_type'] == 'a']['sales'], shade = True, label = 'a');\n",
    "sns.kdeplot(df4[df4['store_type'] == 'b']['sales'], shade = True, label = 'b');\n",
    "sns.kdeplot(df4[df4['store_type'] == 'c']['sales'], shade = True, label = 'c');\n",
    "sns.kdeplot(df4[df4['store_type'] == 'd']['sales'], shade = True, label = 'd');\n",
    "plt.legend();\n",
    "\n",
    "\n",
    "# assortment\n",
    "plt.subplot(3, 2, 5)\n",
    "sns.countplot(df4['assortment']);\n",
    "\n",
    "plt.subplot(3, 2, 6)\n",
    "sns.kdeplot(df4[df4['assortment'] == 'basic']['sales'], shade = True, label = 'basic');\n",
    "sns.kdeplot(df4[df4['assortment'] == 'extra']['sales'], shade = True, label = 'extra');\n",
    "sns.kdeplot(df4[df4['assortment'] == 'extended']['sales'], shade = True, label = 'extended');\n",
    "plt.legend();"
   ]
  },
  {
   "cell_type": "markdown",
   "metadata": {
    "hidden": true
   },
   "source": [
    "## 4.2. Bivariate Analysis - Hypothesis Validation"
   ]
  },
  {
   "cell_type": "markdown",
   "metadata": {
    "heading_collapsed": true,
    "hidden": true
   },
   "source": [
    "### 4.2.1. Individual Analysis of the Hypothesis"
   ]
  },
  {
   "cell_type": "markdown",
   "metadata": {
    "ExecuteTime": {
     "end_time": "2020-11-10T10:28:48.476678Z",
     "start_time": "2020-11-10T10:28:48.464923Z"
    },
    "hidden": true
   },
   "source": [
    "**H1.** Stores with **more diversified products** should sell **more**\n",
    "\n",
    "**TRUE**, when compared to basic assortment, although extended assortment does not sell more than extra"
   ]
  },
  {
   "cell_type": "code",
   "execution_count": null,
   "metadata": {
    "ExecuteTime": {
     "end_time": "2020-11-17T09:36:50.495651Z",
     "start_time": "2020-11-17T09:36:44.852Z"
    },
    "hidden": true,
    "hide_input": true,
    "scrolled": false
   },
   "outputs": [],
   "source": [
    "aux1 = df4[['assortment', 'sales']].groupby('assortment').mean().reset_index()\n",
    "\n",
    "plt.subplot(1, 2, 1)\n",
    "sns.barplot(x = 'assortment', y = 'sales', data = aux1);"
   ]
  },
  {
   "cell_type": "markdown",
   "metadata": {
    "ExecuteTime": {
     "end_time": "2020-11-10T10:28:48.476678Z",
     "start_time": "2020-11-10T10:28:48.464923Z"
    },
    "hidden": true,
    "hide_input": false
   },
   "source": [
    "**H2.** Stores with **closer competitors** should sell **less**\n",
    "\n",
    "**FALSE** - sales do not vary much"
   ]
  },
  {
   "cell_type": "code",
   "execution_count": null,
   "metadata": {
    "ExecuteTime": {
     "end_time": "2020-11-17T09:36:50.496689Z",
     "start_time": "2020-11-17T09:36:44.857Z"
    },
    "hidden": true,
    "hide_input": true
   },
   "outputs": [],
   "source": [
    "aux1 = df4[['competition_distance', 'sales']].groupby('competition_distance').mean().reset_index()\n",
    "\n",
    "plt.subplot(1, 3, 1)\n",
    "bins = list(np.arange(0,20000,1000))\n",
    "aux1['competition_distance_binned'] = pd.cut(aux1['competition_distance'], bins = bins)\n",
    "aux2 = aux1[['competition_distance_binned', 'sales']].groupby('competition_distance_binned').mean().reset_index()\n",
    "sns.barplot(x = 'competition_distance_binned', y = 'sales', data = aux2);\n",
    "plt.xticks(rotation = 90);\n",
    "\n",
    "plt.subplot(1, 3, 2)\n",
    "sns.scatterplot(x = 'competition_distance', y = 'sales', data = aux1);\n",
    "\n",
    "plt.subplot(1, 3, 3)\n",
    "sns.heatmap(aux1.corr(method = 'pearson'), annot = True);"
   ]
  },
  {
   "cell_type": "markdown",
   "metadata": {
    "ExecuteTime": {
     "end_time": "2020-11-10T10:28:48.476678Z",
     "start_time": "2020-11-10T10:28:48.464923Z"
    },
    "hidden": true
   },
   "source": [
    "**H3.** Stores with **longer active promotions** should sell **more**\n",
    "\n",
    "**TRUE** - There is a tendency of more average sales for stores with longer periods of promotion"
   ]
  },
  {
   "cell_type": "code",
   "execution_count": null,
   "metadata": {
    "ExecuteTime": {
     "end_time": "2020-11-17T09:36:50.498128Z",
     "start_time": "2020-11-17T09:36:44.862Z"
    },
    "hidden": true,
    "hide_input": true,
    "scrolled": false
   },
   "outputs": [],
   "source": [
    "aux1 = df4[['promo_time_week', 'sales']].groupby('promo_time_week').mean().reset_index()\n",
    "\n",
    "grid = gridspec.GridSpec(2,3)\n",
    "\n",
    "\n",
    "# extended promotion\n",
    "aux2 = aux1.loc[(aux1['promo_time_week'] >= 0), :]\n",
    "\n",
    "plt.subplot(grid[0,0])\n",
    "bins = list(np.arange(0,313,20))\n",
    "aux2['promo_time_week_binned'] = pd.cut(aux2['promo_time_week'], bins = bins)\n",
    "aux3 = aux2[['promo_time_week_binned', 'sales']].groupby('promo_time_week_binned').mean().reset_index()\n",
    "sns.barplot(x = 'promo_time_week_binned', y = 'sales', data = aux3);\n",
    "plt.xticks(rotation = 90);\n",
    "\n",
    "plt.subplot(grid[0,1])\n",
    "sns.regplot(x = 'promo_time_week', y = 'sales', data = aux2);\n",
    "\n",
    "\n",
    "# regular promotion\n",
    "aux4 = aux1[aux1['promo_time_week'] < 0]\n",
    "\n",
    "plt.subplot(grid[1,0])\n",
    "bins = list(np.arange(-126,0,5))\n",
    "aux4['promo_time_week_binned'] = pd.cut(aux4['promo_time_week'], bins = bins)\n",
    "aux5 = aux4[['promo_time_week_binned', 'sales']].groupby('promo_time_week_binned').mean().reset_index()\n",
    "sns.barplot(x = 'promo_time_week_binned', y = 'sales', data = aux5);\n",
    "plt.xticks(rotation = 90);\n",
    "\n",
    "plt.subplot(grid[1,1])\n",
    "sns.regplot(x = 'promo_time_week', y = 'sales', data = aux4);\n",
    "\n",
    "\n",
    "plt.subplot(grid[:,2])\n",
    "sns.heatmap(aux1.corr(method = 'pearson'), annot = True);"
   ]
  },
  {
   "cell_type": "markdown",
   "metadata": {
    "ExecuteTime": {
     "end_time": "2020-11-10T10:28:48.476678Z",
     "start_time": "2020-11-10T10:28:48.464923Z"
    },
    "hidden": true
   },
   "source": [
    "**H4.** Stores with **more consecutive promotions** should sell **more**\n",
    "\n",
    "**FALSE** - Stores with regular promotions only sell more"
   ]
  },
  {
   "cell_type": "code",
   "execution_count": null,
   "metadata": {
    "ExecuteTime": {
     "end_time": "2020-11-17T09:36:50.499225Z",
     "start_time": "2020-11-17T09:36:44.868Z"
    },
    "hidden": true,
    "scrolled": false
   },
   "outputs": [],
   "source": [
    "df4[['promo', 'promo2', 'sales']].groupby(['promo', 'promo2']).mean().reset_index()"
   ]
  },
  {
   "cell_type": "code",
   "execution_count": null,
   "metadata": {
    "ExecuteTime": {
     "end_time": "2020-11-17T09:36:50.500182Z",
     "start_time": "2020-11-17T09:36:44.873Z"
    },
    "hidden": true,
    "hide_input": true
   },
   "outputs": [],
   "source": [
    "aux1 = df4[(df4['promo'] == 1) & (df4['promo2'] == 1)][['year_week', 'sales']].groupby('year_week').mean().reset_index()\n",
    "ax = aux1.plot();\n",
    "\n",
    "aux2 = df4[(df4['promo'] == 1) & (df4['promo2'] == 0)][['year_week', 'sales']].groupby('year_week').mean().reset_index()\n",
    "aux2.plot(ax=ax);\n",
    "\n",
    "ax.legend(labels=['Regular + Extended', 'Regular']);"
   ]
  },
  {
   "cell_type": "markdown",
   "metadata": {
    "ExecuteTime": {
     "end_time": "2020-11-10T10:28:48.476678Z",
     "start_time": "2020-11-10T10:28:48.464923Z"
    },
    "hidden": true
   },
   "source": [
    "**H5.** Stores, during **school holidays**, should sell **more**\n",
    "\n",
    "**TRUE**, except for the months of January, April, November and December"
   ]
  },
  {
   "cell_type": "code",
   "execution_count": null,
   "metadata": {
    "ExecuteTime": {
     "end_time": "2020-11-17T09:36:50.504462Z",
     "start_time": "2020-11-17T09:36:44.879Z"
    },
    "hidden": true,
    "hide_input": true
   },
   "outputs": [],
   "source": [
    "aux1 = df4[['school_holiday', 'sales']].groupby('school_holiday').mean().reset_index()\n",
    "\n",
    "plt.subplot(2, 1, 1)\n",
    "sns.barplot(x = 'school_holiday', y = 'sales', data = aux1);\n",
    "\n",
    "# analysis per month\n",
    "plt.subplot(2, 1, 2)\n",
    "aux2 = df4[['school_holiday', 'month', 'sales']].groupby(['school_holiday', 'month']).mean().reset_index()\n",
    "sns.barplot(x = 'month', y = 'sales', hue = 'school_holiday', data = aux2);"
   ]
  },
  {
   "cell_type": "markdown",
   "metadata": {
    "ExecuteTime": {
     "end_time": "2020-11-10T10:28:48.476678Z",
     "start_time": "2020-11-10T10:28:48.464923Z"
    },
    "hidden": true
   },
   "source": [
    "**H6.** Stores, in **Christmas period**, should sell **more** than during other holidays\n",
    "\n",
    "**FALSE** - Stores sell less in Christmas than in public holiday or easter"
   ]
  },
  {
   "cell_type": "code",
   "execution_count": null,
   "metadata": {
    "ExecuteTime": {
     "end_time": "2020-11-17T09:36:50.507252Z",
     "start_time": "2020-11-17T09:36:44.885Z"
    },
    "hidden": true,
    "hide_input": true
   },
   "outputs": [],
   "source": [
    "# 2015 removed - data is only until 31/07/2015\n",
    "\n",
    "aux1 = df4[(df4['state_holiday'] != 'regular_day') & (df4['year'] < 2015)]\n",
    "\n",
    "aux2 = aux1[['state_holiday', 'year', 'sales']].groupby(['year', 'state_holiday']).mean().reset_index()\n",
    "\n",
    "sns.barplot(x = 'state_holiday', y = 'sales', hue = 'year', data = aux2);"
   ]
  },
  {
   "cell_type": "markdown",
   "metadata": {
    "ExecuteTime": {
     "end_time": "2020-11-10T10:28:48.476678Z",
     "start_time": "2020-11-10T10:28:48.464923Z"
    },
    "hidden": true
   },
   "source": [
    "**H7.** Stores, during **weekends**, should sell **less**\n",
    "\n",
    "**TRUE**"
   ]
  },
  {
   "cell_type": "code",
   "execution_count": null,
   "metadata": {
    "ExecuteTime": {
     "end_time": "2020-11-17T09:36:50.510957Z",
     "start_time": "2020-11-17T09:36:44.894Z"
    },
    "hidden": true,
    "hide_input": true
   },
   "outputs": [],
   "source": [
    "aux1 = df4[['day_of_week', 'sales']].groupby('day_of_week').sum().reset_index()\n",
    "\n",
    "plt.subplot(1, 2, 1)\n",
    "sns.barplot(x = 'day_of_week', y = 'sales', data = aux1);\n",
    "\n",
    "plt.subplot(1, 2, 2)\n",
    "sns.heatmap(aux1.corr(method = 'pearson'), annot = True);"
   ]
  },
  {
   "cell_type": "markdown",
   "metadata": {
    "ExecuteTime": {
     "end_time": "2020-11-10T10:28:48.476678Z",
     "start_time": "2020-11-10T10:28:48.464923Z"
    },
    "hidden": true
   },
   "source": [
    "**H8.** At the **first half of the month**, stores should sell **more**\n",
    "\n",
    "**TRUE**"
   ]
  },
  {
   "cell_type": "code",
   "execution_count": null,
   "metadata": {
    "ExecuteTime": {
     "end_time": "2020-11-17T09:36:50.513372Z",
     "start_time": "2020-11-17T09:36:44.903Z"
    },
    "hidden": true,
    "hide_input": true
   },
   "outputs": [],
   "source": [
    "aux1 = df4[['day', 'sales']].groupby('day').sum().reset_index()\n",
    "\n",
    "plt.subplot(1, 3, 1)\n",
    "sns.barplot(x = 'day', y = 'sales', data = aux1);\n",
    "plt.xticks(rotation = 90);\n",
    "\n",
    "plt.subplot(1, 3, 2)\n",
    "sns.regplot(x = 'day', y = 'sales', data = aux1);\n",
    "\n",
    "plt.subplot(1, 3, 3)\n",
    "sns.heatmap(aux1.corr(method = 'pearson'), annot = True);"
   ]
  },
  {
   "cell_type": "markdown",
   "metadata": {
    "ExecuteTime": {
     "end_time": "2020-11-10T10:28:48.476678Z",
     "start_time": "2020-11-10T10:28:48.464923Z"
    },
    "hidden": true
   },
   "source": [
    "**H9.** In the **first semester of the year**, stores should sell **less**\n",
    "\n",
    "**TRUE** - Analysis for the years of 2013 and 2014 (the data from 2015 stops in july)"
   ]
  },
  {
   "cell_type": "code",
   "execution_count": null,
   "metadata": {
    "ExecuteTime": {
     "end_time": "2020-11-17T09:36:50.516115Z",
     "start_time": "2020-11-17T09:36:44.910Z"
    },
    "hidden": true,
    "hide_input": true
   },
   "outputs": [],
   "source": [
    "# 2015 removed - data only until 31/07/2015\n",
    "\n",
    "aux = df4[df4['year'] < 2015]\n",
    "\n",
    "aux1 = aux[['month', 'sales']].groupby('month').sum().reset_index()\n",
    "\n",
    "plt.subplot(1, 3, 1)\n",
    "sns.barplot(x = 'month', y = 'sales', data = aux1);\n",
    "\n",
    "plt.subplot(1, 3, 2)\n",
    "sns.regplot(x = 'month', y = 'sales', data = aux1);\n",
    "\n",
    "plt.subplot(1, 3, 3)\n",
    "sns.heatmap(aux1.corr(method = 'pearson'), annot = True);"
   ]
  },
  {
   "cell_type": "markdown",
   "metadata": {
    "hidden": true
   },
   "source": [
    "**H10.** **Throughout the years**, stores should sell **more**\n",
    "\n",
    "**FALSE** - Even though data of 2015 is incomplete, it was considered to observe the tendency of sales reduction throughout years"
   ]
  },
  {
   "cell_type": "code",
   "execution_count": null,
   "metadata": {
    "ExecuteTime": {
     "end_time": "2020-11-17T09:36:50.518055Z",
     "start_time": "2020-11-17T09:36:44.916Z"
    },
    "hidden": true,
    "hide_input": true
   },
   "outputs": [],
   "source": [
    "aux1 = df4[['year', 'sales']].groupby('year').sum().reset_index()\n",
    "\n",
    "plt.subplot(1, 3, 1)\n",
    "sns.barplot(x = 'year', y = 'sales', data = aux1);\n",
    "\n",
    "plt.subplot(1, 3, 2)\n",
    "sns.regplot(x = 'year', y = 'sales', data = aux1);\n",
    "\n",
    "plt.subplot(1, 3, 3)\n",
    "sns.heatmap(aux1.corr(method = 'pearson'), annot = True);"
   ]
  },
  {
   "cell_type": "markdown",
   "metadata": {
    "heading_collapsed": true,
    "hidden": true
   },
   "source": [
    "### 4.2.2. General Hypothesis Review"
   ]
  },
  {
   "cell_type": "code",
   "execution_count": null,
   "metadata": {
    "ExecuteTime": {
     "end_time": "2020-11-17T09:36:50.520100Z",
     "start_time": "2020-11-17T09:36:44.921Z"
    },
    "hidden": true,
    "hide_input": true
   },
   "outputs": [],
   "source": [
    "\n",
    "tab = [['Hypothesis', 'Conclusion', 'Relevance'],\n",
    "       ['H1 - Stores with more diversified products should sell more', 'True', 'Medium'],\n",
    "       ['H2 - Stores with closer competitors should sell less', 'False', 'Low'],\n",
    "       ['H3 - Stores with longer active promotions should sell more', 'True', 'Medium'],\n",
    "       ['H4 - Stores with more consecutive promotions should sell more', 'False', 'Low'],\n",
    "       ['H5 - Stores, during school holidays, should sell more', 'True', 'Low'],\n",
    "       ['H6 - Stores, in Christmas period, should sell more than during other holidays', 'False', 'Medium'],\n",
    "       ['H7 - Stores, during weekends, should sell less', 'True', 'High'],\n",
    "       ['H8 - At the first half of the month, stores should sell more', 'True', 'High'],\n",
    "       ['H9 - In the first semester of the year, stores should sell less', 'True', 'High'],\n",
    "       ['H10 - Throughout the years, stores should sell more', 'False', 'High']\n",
    "      ]\n",
    "print(tabulate(tab, headers='firstrow'))"
   ]
  },
  {
   "cell_type": "markdown",
   "metadata": {
    "heading_collapsed": true,
    "hidden": true
   },
   "source": [
    "## 4.3. Multivariate Analysis"
   ]
  },
  {
   "cell_type": "markdown",
   "metadata": {
    "heading_collapsed": true,
    "hidden": true
   },
   "source": [
    "### 4.3.1. Numerical Attributes"
   ]
  },
  {
   "cell_type": "code",
   "execution_count": null,
   "metadata": {
    "ExecuteTime": {
     "end_time": "2020-11-17T09:36:50.521966Z",
     "start_time": "2020-11-17T09:36:44.928Z"
    },
    "hidden": true,
    "hide_input": true
   },
   "outputs": [],
   "source": [
    "sns.heatmap(num_attributes.corr(method = 'pearson'), annot = True);"
   ]
  },
  {
   "cell_type": "markdown",
   "metadata": {
    "heading_collapsed": true,
    "hidden": true
   },
   "source": [
    "### 4.3.2. Categorical Attributes"
   ]
  },
  {
   "cell_type": "code",
   "execution_count": null,
   "metadata": {
    "ExecuteTime": {
     "end_time": "2020-11-17T09:36:50.523870Z",
     "start_time": "2020-11-17T09:36:44.933Z"
    },
    "hidden": true,
    "hide_input": true,
    "scrolled": false
   },
   "outputs": [],
   "source": [
    "a = df4.select_dtypes(include='object')\n",
    "\n",
    "# calculating cramer v\n",
    "a1 = cramer_v(a['state_holiday'], a['state_holiday'])\n",
    "a2 = cramer_v(a['state_holiday'], a['store_type'])\n",
    "a3 = cramer_v(a['state_holiday'], a['assortment'])\n",
    "\n",
    "a4 = cramer_v(a['store_type'], a['state_holiday'])\n",
    "a5 = cramer_v(a['store_type'], a['store_type'])\n",
    "a6 = cramer_v(a['store_type'], a['assortment'])\n",
    "\n",
    "a7 = cramer_v(a['assortment'], a['state_holiday'])\n",
    "a8 = cramer_v(a['assortment'], a['store_type'])\n",
    "a9 = cramer_v(a['assortment'], a['assortment'])\n",
    "\n",
    "# final dataset\n",
    "d = pd.DataFrame({'state_holiday':[a1,a2,a3], \n",
    "                  'store_type':[a4,a5,a6],\n",
    "                  'assortment':[a7,a8,a9] })\n",
    "\n",
    "d = d.set_index(d.columns)\n",
    "sns.heatmap(d, annot=True);"
   ]
  },
  {
   "cell_type": "markdown",
   "metadata": {
    "heading_collapsed": true
   },
   "source": [
    "# 5. DATA PREPARATION"
   ]
  },
  {
   "cell_type": "code",
   "execution_count": 73,
   "metadata": {
    "ExecuteTime": {
     "end_time": "2020-11-20T13:51:59.881860Z",
     "start_time": "2020-11-20T13:51:59.793613Z"
    },
    "hidden": true
   },
   "outputs": [],
   "source": [
    "df5 = df4.copy()"
   ]
  },
  {
   "cell_type": "markdown",
   "metadata": {
    "hidden": true
   },
   "source": [
    "## 5.1. Normalization"
   ]
  },
  {
   "cell_type": "markdown",
   "metadata": {
    "ExecuteTime": {
     "end_time": "2020-11-13T08:14:30.818851Z",
     "start_time": "2020-11-13T08:14:27.572156Z"
    },
    "hidden": true
   },
   "source": [
    "Technique that works well for variables that have a normal distribution. As this does not occur in the numerical variables presented, this technique **will not be applied in this case**."
   ]
  },
  {
   "cell_type": "markdown",
   "metadata": {
    "hidden": true
   },
   "source": [
    "## 5.2. Rescaling"
   ]
  },
  {
   "cell_type": "code",
   "execution_count": 75,
   "metadata": {
    "ExecuteTime": {
     "end_time": "2020-11-20T13:52:07.996391Z",
     "start_time": "2020-11-20T13:52:07.705267Z"
    },
    "hidden": true
   },
   "outputs": [],
   "source": [
    "mms = MinMaxScaler()\n",
    "rs = RobustScaler()\n",
    "\n",
    "# competition_distance (Robust Scaler)\n",
    "df5['competition_distance'] = rs.fit_transform(df5[['competition_distance']].values)\n",
    "\n",
    "# competition_time_month\n",
    "df5['competition_time_month'] = rs.fit_transform(df5[['competition_time_month']].values)\n",
    "\n",
    "# promo_time_week\n",
    "df5['promo_time_week'] = mms.fit_transform(df5[['promo_time_week']].values)\n",
    "\n",
    "# year\n",
    "df5['year'] = mms.fit_transform(df5[['year']].values)"
   ]
  },
  {
   "cell_type": "code",
   "execution_count": 74,
   "metadata": {
    "ExecuteTime": {
     "end_time": "2020-11-20T13:52:02.334142Z",
     "start_time": "2020-11-20T13:52:02.291626Z"
    },
    "hidden": true
   },
   "outputs": [
    {
     "data": {
      "text/html": [
       "<div>\n",
       "<style scoped>\n",
       "    .dataframe tbody tr th:only-of-type {\n",
       "        vertical-align: middle;\n",
       "    }\n",
       "\n",
       "    .dataframe tbody tr th {\n",
       "        vertical-align: top;\n",
       "    }\n",
       "\n",
       "    .dataframe thead th {\n",
       "        text-align: right;\n",
       "    }\n",
       "</style>\n",
       "<table border=\"1\" class=\"dataframe\">\n",
       "  <thead>\n",
       "    <tr style=\"text-align: right;\">\n",
       "      <th></th>\n",
       "      <th>store</th>\n",
       "      <th>day_of_week</th>\n",
       "      <th>date</th>\n",
       "      <th>sales</th>\n",
       "      <th>promo</th>\n",
       "      <th>state_holiday</th>\n",
       "      <th>school_holiday</th>\n",
       "      <th>store_type</th>\n",
       "      <th>assortment</th>\n",
       "      <th>competition_distance</th>\n",
       "      <th>competition_open_since_month</th>\n",
       "      <th>competition_open_since_year</th>\n",
       "      <th>promo2</th>\n",
       "      <th>promo2_since_week</th>\n",
       "      <th>promo2_since_year</th>\n",
       "      <th>is_promo</th>\n",
       "      <th>year</th>\n",
       "      <th>month</th>\n",
       "      <th>day</th>\n",
       "      <th>week_of_year</th>\n",
       "      <th>year_week</th>\n",
       "      <th>competition_since</th>\n",
       "      <th>competition_time_month</th>\n",
       "      <th>promo_since</th>\n",
       "      <th>promo_time_week</th>\n",
       "    </tr>\n",
       "  </thead>\n",
       "  <tbody>\n",
       "    <tr>\n",
       "      <th>0</th>\n",
       "      <td>1</td>\n",
       "      <td>5</td>\n",
       "      <td>2015-07-31</td>\n",
       "      <td>5263</td>\n",
       "      <td>1</td>\n",
       "      <td>regular_day</td>\n",
       "      <td>1</td>\n",
       "      <td>c</td>\n",
       "      <td>basic</td>\n",
       "      <td>1270.0</td>\n",
       "      <td>9</td>\n",
       "      <td>2008</td>\n",
       "      <td>0</td>\n",
       "      <td>31</td>\n",
       "      <td>2015</td>\n",
       "      <td>0</td>\n",
       "      <td>2015</td>\n",
       "      <td>7</td>\n",
       "      <td>31</td>\n",
       "      <td>31</td>\n",
       "      <td>2015-30</td>\n",
       "      <td>2008-09-01</td>\n",
       "      <td>84</td>\n",
       "      <td>2015-07-27</td>\n",
       "      <td>0</td>\n",
       "    </tr>\n",
       "    <tr>\n",
       "      <th>1</th>\n",
       "      <td>2</td>\n",
       "      <td>5</td>\n",
       "      <td>2015-07-31</td>\n",
       "      <td>6064</td>\n",
       "      <td>1</td>\n",
       "      <td>regular_day</td>\n",
       "      <td>1</td>\n",
       "      <td>a</td>\n",
       "      <td>basic</td>\n",
       "      <td>570.0</td>\n",
       "      <td>11</td>\n",
       "      <td>2007</td>\n",
       "      <td>1</td>\n",
       "      <td>13</td>\n",
       "      <td>2010</td>\n",
       "      <td>1</td>\n",
       "      <td>2015</td>\n",
       "      <td>7</td>\n",
       "      <td>31</td>\n",
       "      <td>31</td>\n",
       "      <td>2015-30</td>\n",
       "      <td>2007-11-01</td>\n",
       "      <td>94</td>\n",
       "      <td>2010-03-22</td>\n",
       "      <td>279</td>\n",
       "    </tr>\n",
       "    <tr>\n",
       "      <th>2</th>\n",
       "      <td>3</td>\n",
       "      <td>5</td>\n",
       "      <td>2015-07-31</td>\n",
       "      <td>8314</td>\n",
       "      <td>1</td>\n",
       "      <td>regular_day</td>\n",
       "      <td>1</td>\n",
       "      <td>a</td>\n",
       "      <td>basic</td>\n",
       "      <td>14130.0</td>\n",
       "      <td>12</td>\n",
       "      <td>2006</td>\n",
       "      <td>1</td>\n",
       "      <td>14</td>\n",
       "      <td>2011</td>\n",
       "      <td>1</td>\n",
       "      <td>2015</td>\n",
       "      <td>7</td>\n",
       "      <td>31</td>\n",
       "      <td>31</td>\n",
       "      <td>2015-30</td>\n",
       "      <td>2006-12-01</td>\n",
       "      <td>105</td>\n",
       "      <td>2011-03-28</td>\n",
       "      <td>226</td>\n",
       "    </tr>\n",
       "    <tr>\n",
       "      <th>3</th>\n",
       "      <td>4</td>\n",
       "      <td>5</td>\n",
       "      <td>2015-07-31</td>\n",
       "      <td>13995</td>\n",
       "      <td>1</td>\n",
       "      <td>regular_day</td>\n",
       "      <td>1</td>\n",
       "      <td>c</td>\n",
       "      <td>extended</td>\n",
       "      <td>620.0</td>\n",
       "      <td>9</td>\n",
       "      <td>2009</td>\n",
       "      <td>0</td>\n",
       "      <td>31</td>\n",
       "      <td>2015</td>\n",
       "      <td>0</td>\n",
       "      <td>2015</td>\n",
       "      <td>7</td>\n",
       "      <td>31</td>\n",
       "      <td>31</td>\n",
       "      <td>2015-30</td>\n",
       "      <td>2009-09-01</td>\n",
       "      <td>71</td>\n",
       "      <td>2015-07-27</td>\n",
       "      <td>0</td>\n",
       "    </tr>\n",
       "    <tr>\n",
       "      <th>4</th>\n",
       "      <td>5</td>\n",
       "      <td>5</td>\n",
       "      <td>2015-07-31</td>\n",
       "      <td>4822</td>\n",
       "      <td>1</td>\n",
       "      <td>regular_day</td>\n",
       "      <td>1</td>\n",
       "      <td>a</td>\n",
       "      <td>basic</td>\n",
       "      <td>29910.0</td>\n",
       "      <td>4</td>\n",
       "      <td>2015</td>\n",
       "      <td>0</td>\n",
       "      <td>31</td>\n",
       "      <td>2015</td>\n",
       "      <td>0</td>\n",
       "      <td>2015</td>\n",
       "      <td>7</td>\n",
       "      <td>31</td>\n",
       "      <td>31</td>\n",
       "      <td>2015-30</td>\n",
       "      <td>2015-04-01</td>\n",
       "      <td>4</td>\n",
       "      <td>2015-07-27</td>\n",
       "      <td>0</td>\n",
       "    </tr>\n",
       "  </tbody>\n",
       "</table>\n",
       "</div>"
      ],
      "text/plain": [
       "   store  day_of_week       date  sales  promo state_holiday  school_holiday store_type assortment  competition_distance  competition_open_since_month  competition_open_since_year  promo2  promo2_since_week  promo2_since_year  is_promo  year  month  day  week_of_year year_week competition_since  competition_time_month promo_since  promo_time_week\n",
       "0      1            5 2015-07-31   5263      1   regular_day               1          c      basic                1270.0                             9                         2008       0                 31               2015         0  2015      7   31            31   2015-30        2008-09-01                      84  2015-07-27                0\n",
       "1      2            5 2015-07-31   6064      1   regular_day               1          a      basic                 570.0                            11                         2007       1                 13               2010         1  2015      7   31            31   2015-30        2007-11-01                      94  2010-03-22              279\n",
       "2      3            5 2015-07-31   8314      1   regular_day               1          a      basic               14130.0                            12                         2006       1                 14               2011         1  2015      7   31            31   2015-30        2006-12-01                     105  2011-03-28              226\n",
       "3      4            5 2015-07-31  13995      1   regular_day               1          c   extended                 620.0                             9                         2009       0                 31               2015         0  2015      7   31            31   2015-30        2009-09-01                      71  2015-07-27                0\n",
       "4      5            5 2015-07-31   4822      1   regular_day               1          a      basic               29910.0                             4                         2015       0                 31               2015         0  2015      7   31            31   2015-30        2015-04-01                       4  2015-07-27                0"
      ]
     },
     "execution_count": 74,
     "metadata": {},
     "output_type": "execute_result"
    }
   ],
   "source": [
    "df5.head()"
   ]
  },
  {
   "cell_type": "markdown",
   "metadata": {
    "hidden": true
   },
   "source": [
    "## 5.3. Transformation"
   ]
  },
  {
   "cell_type": "markdown",
   "metadata": {
    "hidden": true
   },
   "source": [
    "### 5.3.1. Response Variable"
   ]
  },
  {
   "cell_type": "code",
   "execution_count": 76,
   "metadata": {
    "ExecuteTime": {
     "end_time": "2020-11-20T13:52:11.378948Z",
     "start_time": "2020-11-20T13:52:11.309960Z"
    },
    "hidden": true
   },
   "outputs": [],
   "source": [
    "df5['sales'] = np.log1p(df5['sales'])"
   ]
  },
  {
   "cell_type": "markdown",
   "metadata": {
    "hidden": true
   },
   "source": [
    "### 5.3.2. Encoding"
   ]
  },
  {
   "cell_type": "code",
   "execution_count": 77,
   "metadata": {
    "ExecuteTime": {
     "end_time": "2020-11-20T13:52:13.537423Z",
     "start_time": "2020-11-20T13:52:12.977838Z"
    },
    "hidden": true
   },
   "outputs": [],
   "source": [
    "#state_holiday - One Hot Encoder\n",
    "df5 = pd.get_dummies(df5, prefix=['state_holiday'], columns=['state_holiday'])\n",
    "\n",
    "#store_type - Label Encoder\n",
    "le = LabelEncoder()\n",
    "df5['store_type'] = le.fit_transform(df5['store_type'])\n",
    "\n",
    "# assortment - Ordinal Encoder\n",
    "assort_dict = {'basic': 1,\n",
    "               'extra': 2,\n",
    "               'extended': 3}\n",
    "df5['assortment'] = df5['assortment'].map(assort_dict)"
   ]
  },
  {
   "cell_type": "markdown",
   "metadata": {
    "hidden": true
   },
   "source": [
    "### 5.3.3. Nature Transformation"
   ]
  },
  {
   "cell_type": "code",
   "execution_count": 78,
   "metadata": {
    "ExecuteTime": {
     "end_time": "2020-11-20T13:52:17.204487Z",
     "start_time": "2020-11-20T13:52:16.954084Z"
    },
    "hidden": true
   },
   "outputs": [],
   "source": [
    "# day_of_week\n",
    "df5['day_of_week_sin'] = np.sin(2 * np.pi * df5['day_of_week'] / 7) \n",
    "df5['day_of_week_cos'] = np.cos(2 * np.pi * df5['day_of_week'] / 7) \n",
    "\n",
    "# day\n",
    "df5['day_sin'] = np.sin(2 * np.pi * df5['day'] / 30) \n",
    "df5['day_cos'] = np.cos(2 * np.pi * df5['day'] / 30) \n",
    "\n",
    "# month\n",
    "df5['month_sin'] = np.sin(2 * np.pi * df5['month'] / 12) \n",
    "df5['month_cos'] = np.cos(2 * np.pi * df5['month'] / 12) \n",
    "\n",
    "# week_of_year\n",
    "df5['week_of_year_sin'] = np.sin(2 * np.pi * df5['week_of_year'] / 52) \n",
    "df5['week_of_year_cos'] = np.cos(2 * np.pi * df5['week_of_year'] / 52) "
   ]
  },
  {
   "cell_type": "markdown",
   "metadata": {
    "heading_collapsed": true
   },
   "source": [
    "# 6. FEATURE SELECTION"
   ]
  },
  {
   "cell_type": "code",
   "execution_count": 79,
   "metadata": {
    "ExecuteTime": {
     "end_time": "2020-11-20T13:52:21.101344Z",
     "start_time": "2020-11-20T13:52:20.968434Z"
    },
    "hidden": true
   },
   "outputs": [],
   "source": [
    "df6 = df5.copy()"
   ]
  },
  {
   "cell_type": "code",
   "execution_count": 80,
   "metadata": {
    "ExecuteTime": {
     "end_time": "2020-11-20T13:52:22.651866Z",
     "start_time": "2020-11-20T13:52:22.379190Z"
    },
    "hidden": true
   },
   "outputs": [
    {
     "data": {
      "text/plain": [
       "Index(['store', 'date', 'sales', 'promo', 'school_holiday', 'store_type',\n",
       "       'assortment', 'competition_distance', 'competition_open_since_month',\n",
       "       'competition_open_since_year', 'promo2', 'promo2_since_week',\n",
       "       'promo2_since_year', 'is_promo', 'year', 'competition_time_month',\n",
       "       'promo_time_week', 'state_holiday_christmas',\n",
       "       'state_holiday_easter_holiday', 'state_holiday_public_holiday',\n",
       "       'state_holiday_regular_day', 'day_of_week_sin', 'day_of_week_cos',\n",
       "       'day_sin', 'day_cos', 'month_sin', 'month_cos', 'week_of_year_sin',\n",
       "       'week_of_year_cos'],\n",
       "      dtype='object')"
      ]
     },
     "execution_count": 80,
     "metadata": {},
     "output_type": "execute_result"
    }
   ],
   "source": [
    "# removing colinear variables\n",
    "\n",
    "cols_drop = ['day_of_week', 'day', 'month', 'week_of_year', 'year_week', 'competition_since', 'promo_since']\n",
    "\n",
    "df6 = df6.drop(cols_drop, axis = 1)\n",
    "\n",
    "df6.columns"
   ]
  },
  {
   "cell_type": "markdown",
   "metadata": {
    "hidden": true
   },
   "source": [
    "## 6.1. Split dataframe into training and test dataset"
   ]
  },
  {
   "cell_type": "code",
   "execution_count": 81,
   "metadata": {
    "ExecuteTime": {
     "end_time": "2020-11-20T13:52:26.700038Z",
     "start_time": "2020-11-20T13:52:26.689815Z"
    },
    "hidden": true
   },
   "outputs": [
    {
     "data": {
      "text/plain": [
       "Timestamp('2015-06-19 00:00:00')"
      ]
     },
     "execution_count": 81,
     "metadata": {},
     "output_type": "execute_result"
    }
   ],
   "source": [
    "df6['date'].max() - pd.Timedelta(value = 6, unit = 'W')"
   ]
  },
  {
   "cell_type": "code",
   "execution_count": 82,
   "metadata": {
    "ExecuteTime": {
     "end_time": "2020-11-20T13:52:28.058193Z",
     "start_time": "2020-11-20T13:52:27.899894Z"
    },
    "hidden": true
   },
   "outputs": [
    {
     "name": "stdout",
     "output_type": "stream",
     "text": [
      "Training Min Date: 2013-01-01 00:00:00\n",
      "Training Max Date: 2015-06-18 00:00:00\n",
      "\n",
      "Test Min Date: 2015-06-19 00:00:00\n",
      "Test Max Date: 2015-07-31 00:00:00\n"
     ]
    }
   ],
   "source": [
    "# training dataset\n",
    "X_train = df6[df6['date'] < '2015-06-19']\n",
    "y_train = X_train['sales']\n",
    "\n",
    "print('Training Min Date: {}'.format(X_train['date'].min()))\n",
    "print('Training Max Date: {}'.format(X_train['date'].max()))\n",
    "\n",
    "\n",
    "# test dataset\n",
    "X_test = df6[df6['date'] >= '2015-06-19']\n",
    "y_test = X_test['sales']\n",
    "\n",
    "print('\\nTest Min Date: {}'.format(X_test['date'].min()))\n",
    "print('Test Max Date: {}'.format(X_test['date'].max()))"
   ]
  },
  {
   "cell_type": "markdown",
   "metadata": {
    "heading_collapsed": true,
    "hidden": true
   },
   "source": [
    "## 6.2. Boruta as Feature Selector"
   ]
  },
  {
   "cell_type": "code",
   "execution_count": null,
   "metadata": {
    "ExecuteTime": {
     "end_time": "2020-11-17T09:36:50.546251Z",
     "start_time": "2020-11-17T09:36:44.985Z"
    },
    "hidden": true
   },
   "outputs": [],
   "source": [
    "# # conversion of df/series to numpy and remotion of variables that do not compose training ('sales' and 'date')\n",
    "# x_train_n = X_train.drop(['sales', 'date'], axis=1).values\n",
    "# y_train_n = y_train.values.ravel()\n",
    "\n",
    "# # define RandomForestRegressor\n",
    "# rf = RandomForestRegressor(n_jobs = -1)\n",
    "\n",
    "# # define Boruta\n",
    "# boruta = BorutaPy(rf, n_estimators = 'auto', verbose = 2, random_state = 42).fit(x_train_n, y_train_n)"
   ]
  },
  {
   "cell_type": "markdown",
   "metadata": {
    "hidden": true
   },
   "source": [
    "### 6.2.1. Best Features"
   ]
  },
  {
   "cell_type": "code",
   "execution_count": null,
   "metadata": {
    "ExecuteTime": {
     "end_time": "2020-11-17T09:36:50.548340Z",
     "start_time": "2020-11-17T09:36:44.990Z"
    },
    "hidden": true
   },
   "outputs": [],
   "source": [
    "# cols_selected = boruta.support_.tolist()\n",
    "\n",
    "# # best features\n",
    "# X_train_fs = X_train.drop(['sales', 'date'], axis = 1)\n",
    "# cols_selected_boruta = X_train_fs.iloc[:, cols_selected].columns.tolist()\n",
    "\n",
    "# # colunas desconsideradas pelo boruta\n",
    "# cols_not_selected_boruta = list(np.setdiff1d(X_train_fs.columns, cols_selected_boruta))"
   ]
  },
  {
   "cell_type": "markdown",
   "metadata": {
    "hidden": true
   },
   "source": [
    "## 6.3. Saving Boruta Best Features"
   ]
  },
  {
   "cell_type": "code",
   "execution_count": 83,
   "metadata": {
    "ExecuteTime": {
     "end_time": "2020-11-20T13:52:33.970860Z",
     "start_time": "2020-11-20T13:52:33.963392Z"
    },
    "hidden": true
   },
   "outputs": [],
   "source": [
    "cols_selected_boruta = [\n",
    " 'store',\n",
    " 'promo',\n",
    " 'store_type',\n",
    " 'assortment',\n",
    " 'competition_distance',\n",
    " 'competition_open_since_month',\n",
    " 'competition_open_since_year',\n",
    " 'promo2',\n",
    " 'promo2_since_week',\n",
    " 'promo2_since_year',\n",
    " 'competition_time_month',\n",
    " 'promo_time_week',\n",
    " 'month_cos',\n",
    " 'month_sin',\n",
    " 'day_sin',\n",
    " 'day_cos',\n",
    " 'week_of_year_cos',\n",
    " 'day_of_week_sin',\n",
    " 'day_of_week_cos']\n",
    "\n",
    "#columns to add\n",
    "feat_to_add = ['date', 'sales']\n",
    "\n",
    "#final features\n",
    "cols_selected_boruta_full = cols_selected_boruta.copy()\n",
    "cols_selected_boruta_full.extend( feat_to_add )"
   ]
  },
  {
   "cell_type": "markdown",
   "metadata": {
    "heading_collapsed": true
   },
   "source": [
    "# 7. MACHINE LEARNING MODELS"
   ]
  },
  {
   "cell_type": "code",
   "execution_count": 84,
   "metadata": {
    "ExecuteTime": {
     "end_time": "2020-11-20T13:52:37.289767Z",
     "start_time": "2020-11-20T13:52:37.176468Z"
    },
    "hidden": true
   },
   "outputs": [],
   "source": [
    "x_train = X_train[cols_selected_boruta]\n",
    "x_test = X_test[cols_selected_boruta]\n",
    "\n",
    "# Time Series Cross-Validation\n",
    "x_training = X_train[cols_selected_boruta_full]"
   ]
  },
  {
   "cell_type": "markdown",
   "metadata": {
    "heading_collapsed": true,
    "hidden": true
   },
   "source": [
    "## 7.1. Average Model"
   ]
  },
  {
   "cell_type": "code",
   "execution_count": null,
   "metadata": {
    "ExecuteTime": {
     "end_time": "2020-11-17T09:36:50.559772Z",
     "start_time": "2020-11-17T09:36:45.007Z"
    },
    "hidden": true
   },
   "outputs": [],
   "source": [
    "# # test dataset\n",
    "# aux1 = x_test.copy()\n",
    "# aux1['sales'] = y_test.copy()\n",
    "\n",
    "# # prediction\n",
    "# aux2 = aux1[['store', 'sales']].groupby('store').mean().reset_index().rename(columns = {'sales': 'predictions'})\n",
    "# aux1 = pd.merge(aux1, aux2, how = 'left', on = 'store')\n",
    "# yhat_baseline = aux1['predictions']\n",
    "\n",
    "# # performance\n",
    "# baseline_result = ml_error('Average Model', np.expm1(y_test), np.expm1(yhat_baseline))\n",
    "# baseline_result"
   ]
  },
  {
   "cell_type": "markdown",
   "metadata": {
    "heading_collapsed": true,
    "hidden": true
   },
   "source": [
    "## 7.2. Linear Regression Model"
   ]
  },
  {
   "cell_type": "code",
   "execution_count": null,
   "metadata": {
    "ExecuteTime": {
     "end_time": "2020-11-17T09:36:50.561738Z",
     "start_time": "2020-11-17T09:36:45.012Z"
    },
    "hidden": true
   },
   "outputs": [],
   "source": [
    "# # model\n",
    "# lr = LinearRegression().fit(x_train, y_train)\n",
    "\n",
    "# # predicition\n",
    "# yhat_lr = lr.predict(x_test)\n",
    "\n",
    "# # performance\n",
    "# lr_result = ml_error('Linear Regression', np.expm1(y_test), np.expm1(yhat_lr))\n",
    "# lr_result"
   ]
  },
  {
   "cell_type": "markdown",
   "metadata": {
    "heading_collapsed": true,
    "hidden": true
   },
   "source": [
    "### 7.1.2.  Linear Regression Model - Cross Validation"
   ]
  },
  {
   "cell_type": "code",
   "execution_count": null,
   "metadata": {
    "ExecuteTime": {
     "end_time": "2020-11-17T09:36:50.563878Z",
     "start_time": "2020-11-17T09:36:45.017Z"
    },
    "hidden": true
   },
   "outputs": [],
   "source": [
    "# lr_result_cv = cross_validation(x_training, 5, 'Linear Regression', lr, verbose=True)\n",
    "# lr_result_cv"
   ]
  },
  {
   "cell_type": "markdown",
   "metadata": {
    "heading_collapsed": true,
    "hidden": true
   },
   "source": [
    "## 7.3. Linear Regression Regularized Model (Lasso)"
   ]
  },
  {
   "cell_type": "code",
   "execution_count": null,
   "metadata": {
    "ExecuteTime": {
     "end_time": "2020-11-17T09:36:50.568307Z",
     "start_time": "2020-11-17T09:36:45.026Z"
    },
    "hidden": true
   },
   "outputs": [],
   "source": [
    "# # model\n",
    "# lrr = Lasso(alpha = 0.01).fit(x_train, y_train)\n",
    "\n",
    "# # predicition\n",
    "# yhat_lrr = lrr.predict(x_test)\n",
    "\n",
    "# # performance\n",
    "# lrr_result = ml_error('Lasso', np.expm1(y_test), np.expm1(yhat_lrr))\n",
    "# lrr_result"
   ]
  },
  {
   "cell_type": "markdown",
   "metadata": {
    "heading_collapsed": true,
    "hidden": true
   },
   "source": [
    "### 7.1.3.  Lasso - Cross Validation"
   ]
  },
  {
   "cell_type": "code",
   "execution_count": null,
   "metadata": {
    "ExecuteTime": {
     "end_time": "2020-11-17T09:36:50.571198Z",
     "start_time": "2020-11-17T09:36:45.032Z"
    },
    "hidden": true
   },
   "outputs": [],
   "source": [
    "# lrr_result_cv = cross_validation(x_training, 5, 'Lasso', lrr, verbose=False)\n",
    "# lrr_result_cv"
   ]
  },
  {
   "cell_type": "markdown",
   "metadata": {
    "heading_collapsed": true,
    "hidden": true
   },
   "source": [
    "## 7.4. Random Forest Model"
   ]
  },
  {
   "cell_type": "code",
   "execution_count": null,
   "metadata": {
    "ExecuteTime": {
     "end_time": "2020-11-17T09:36:50.573302Z",
     "start_time": "2020-11-17T09:36:45.037Z"
    },
    "hidden": true
   },
   "outputs": [],
   "source": [
    "# # model\n",
    "# rf = RandomForestRegressor(n_estimators = 100, n_jobs = -1, random_state = 42).fit(x_train, y_train)\n",
    "\n",
    "# # predicition\n",
    "# yhat_rf = rf.predict(x_test)\n",
    "\n",
    "# # performance\n",
    "# rf_result = ml_error('Random Forest Regressor', np.expm1(y_test), np.expm1(yhat_rf))\n",
    "# rf_result"
   ]
  },
  {
   "cell_type": "markdown",
   "metadata": {
    "heading_collapsed": true,
    "hidden": true
   },
   "source": [
    "### 7.1.4. Random Forest Regressor - Cross Validation"
   ]
  },
  {
   "cell_type": "code",
   "execution_count": null,
   "metadata": {
    "hidden": true
   },
   "outputs": [],
   "source": [
    "# rf_result_cv = cross_validation(x_training, 5, 'Random Forest Regressor', rf, verbose=False)\n",
    "# rf_result_cv"
   ]
  },
  {
   "cell_type": "markdown",
   "metadata": {
    "heading_collapsed": true,
    "hidden": true
   },
   "source": [
    "## 7.5. XGBoost Model"
   ]
  },
  {
   "cell_type": "code",
   "execution_count": null,
   "metadata": {
    "ExecuteTime": {
     "end_time": "2020-11-17T09:36:50.575378Z",
     "start_time": "2020-11-17T09:36:45.043Z"
    },
    "hidden": true
   },
   "outputs": [],
   "source": [
    "# # model\n",
    "# model_xgb = xgb().fit(x_train, y_train)\n",
    "\n",
    "# # predicition\n",
    "# yhat_xgb = model_xgb.predict(x_test)\n",
    "\n",
    "# # performance\n",
    "# xgb_result = ml_error('XGBoost Regressor', np.expm1(y_test), np.expm1(yhat_rf))\n",
    "# xgb_result"
   ]
  },
  {
   "cell_type": "markdown",
   "metadata": {
    "heading_collapsed": true,
    "hidden": true
   },
   "source": [
    "### 7.1.5. XGBoost Regressor - Cross Validation"
   ]
  },
  {
   "cell_type": "code",
   "execution_count": null,
   "metadata": {
    "hidden": true
   },
   "outputs": [],
   "source": [
    "# xgb_result_cv = cross_validation(x_training, 5, 'XGBoost Regressor', model_xgb, verbose=False)\n",
    "# xgb_result_cv"
   ]
  },
  {
   "cell_type": "markdown",
   "metadata": {
    "heading_collapsed": true,
    "hidden": true
   },
   "source": [
    "## 7.6. Compare Model's Performance"
   ]
  },
  {
   "cell_type": "markdown",
   "metadata": {
    "heading_collapsed": true,
    "hidden": true
   },
   "source": [
    "### 7.6.1. Single Performance"
   ]
  },
  {
   "cell_type": "code",
   "execution_count": null,
   "metadata": {
    "hidden": true
   },
   "outputs": [],
   "source": [
    "# modelling_result = pd.concat([baseline_result, lr_result, lrr_result, rf_result, xgb_result])\n",
    "# modelling_result.sort_values('RMSE')"
   ]
  },
  {
   "cell_type": "markdown",
   "metadata": {
    "heading_collapsed": true,
    "hidden": true
   },
   "source": [
    "### 7.6.2. Real Performance (Cross Validation)"
   ]
  },
  {
   "cell_type": "code",
   "execution_count": null,
   "metadata": {
    "hidden": true
   },
   "outputs": [],
   "source": [
    "# modelling_result_cv = pd.concat([lr_result_cv, lrr_result_cv, rf_result_cv, xgb_result_cv])\n",
    "# modelling_result_cv.sort_values('RMSE')"
   ]
  },
  {
   "cell_type": "markdown",
   "metadata": {
    "heading_collapsed": true
   },
   "source": [
    "# 8. HYPERPARAMETER FINE TUNING"
   ]
  },
  {
   "cell_type": "markdown",
   "metadata": {
    "heading_collapsed": true,
    "hidden": true
   },
   "source": [
    "## 8.1. Random Search"
   ]
  },
  {
   "cell_type": "code",
   "execution_count": null,
   "metadata": {
    "hidden": true
   },
   "outputs": [],
   "source": [
    "param = ('n_estimators': [1500, 1700, 2500, 3000, 3500],\n",
    "         'eta': [0.01, 0.03],\n",
    "         'max_depth': [3, 5, 9],\n",
    "         'subsample': [0.1, 0.5, 0.7],\n",
    "         'colsample_bytree': [0.3, 0.7, 0.9],\n",
    "         'min_child_weight': [3, 8, 15])\n",
    "\n",
    "MAX_EVAL = 10"
   ]
  },
  {
   "cell_type": "code",
   "execution_count": null,
   "metadata": {
    "hidden": true
   },
   "outputs": [],
   "source": [
    "final_result = pd.DataFrame()\n",
    "\n",
    "for i in range (MAX_EVAL):\n",
    "    # choose values for parameters randomly\n",
    "    hp = (k: random.sample(v, 1)[0] for k, v in param.items())\n",
    "    print(hp)\n",
    "    \n",
    "    # model\n",
    "    model_xgb = xgb.XGBRegressor(objective = 'reg:squarederror',\n",
    "                                 n_estimators = hp['n_estimators'],\n",
    "                                 eta = hp['eta'],\n",
    "                                 max_depth = hp['max_depth'],\n",
    "                                 subsample = hp['subsample'],\n",
    "                                 colsample_bytee = hp['colsample_bytree'],\n",
    "                                 min_child_weight = hp['min_child_weight'])\n",
    "    \n",
    "    # prediction\n",
    "    yhat_xgb = model_xgb.predict(x_test)\n",
    "    \n",
    "    # performance    \n",
    "    result = cross_validation (x_training, 2, 'XGBoost Regressor', model_xgb, verbose=False)\n",
    "    final_result = pd.concat([final_result, result])"
   ]
  },
  {
   "cell_type": "markdown",
   "metadata": {
    "hidden": true
   },
   "source": [
    "## 8.2. Final Model"
   ]
  },
  {
   "cell_type": "code",
   "execution_count": 85,
   "metadata": {
    "ExecuteTime": {
     "end_time": "2020-11-20T13:52:41.620188Z",
     "start_time": "2020-11-20T13:52:41.616385Z"
    },
    "hidden": true
   },
   "outputs": [],
   "source": [
    "param_tuned = {'n_estimators': 3500,\n",
    "               'eta': 0.01,\n",
    "               'max_depth': 5,\n",
    "               'subsample': 0.5,\n",
    "               'colsample_bytree': 0.7,\n",
    "               'min_child_weight': 15}"
   ]
  },
  {
   "cell_type": "code",
   "execution_count": 87,
   "metadata": {
    "ExecuteTime": {
     "end_time": "2020-11-20T14:25:47.069766Z",
     "start_time": "2020-11-20T13:53:38.371376Z"
    },
    "hidden": true
   },
   "outputs": [
    {
     "name": "stdout",
     "output_type": "stream",
     "text": [
      "[14:53:39] WARNING: ../src/learner.cc:516: \n",
      "Parameters: { colsample_bytee } might not be used.\n",
      "\n",
      "  This may not be accurate due to some parameters are only used in language bindings but\n",
      "  passed down to XGBoost core.  Or some parameters are not used but slip through this\n",
      "  verification. Please open an issue if you find above cases.\n",
      "\n",
      "\n"
     ]
    },
    {
     "data": {
      "text/html": [
       "<div>\n",
       "<style scoped>\n",
       "    .dataframe tbody tr th:only-of-type {\n",
       "        vertical-align: middle;\n",
       "    }\n",
       "\n",
       "    .dataframe tbody tr th {\n",
       "        vertical-align: top;\n",
       "    }\n",
       "\n",
       "    .dataframe thead th {\n",
       "        text-align: right;\n",
       "    }\n",
       "</style>\n",
       "<table border=\"1\" class=\"dataframe\">\n",
       "  <thead>\n",
       "    <tr style=\"text-align: right;\">\n",
       "      <th></th>\n",
       "      <th>Model Name</th>\n",
       "      <th>MAE</th>\n",
       "      <th>MAPE</th>\n",
       "      <th>RMSE</th>\n",
       "    </tr>\n",
       "  </thead>\n",
       "  <tbody>\n",
       "    <tr>\n",
       "      <th>0</th>\n",
       "      <td>XGBoost Regressor</td>\n",
       "      <td>1000.492542</td>\n",
       "      <td>0.151188</td>\n",
       "      <td>1446.391542</td>\n",
       "    </tr>\n",
       "  </tbody>\n",
       "</table>\n",
       "</div>"
      ],
      "text/plain": [
       "          Model Name          MAE      MAPE         RMSE\n",
       "0  XGBoost Regressor  1000.492542  0.151188  1446.391542"
      ]
     },
     "execution_count": 87,
     "metadata": {},
     "output_type": "execute_result"
    }
   ],
   "source": [
    "# model\n",
    "model_xgb_tuned = xgb.XGBRegressor(objective = 'reg:squarederror',\n",
    "                                   n_estimators = param_tuned['n_estimators'],\n",
    "                                   eta = param_tuned['eta'],\n",
    "                                   max_depth = param_tuned['max_depth'],\n",
    "                                   subsample = param_tuned['subsample'],\n",
    "                                   colsample_bytree = param_tuned['colsample_bytree'],\n",
    "                                   min_child_weight = param_tuned['min_child_weight']).fit(x_train, y_train)\n",
    "\n",
    "# prediction\n",
    "yhat_xgb_tuned = model_xgb_tuned.predict(x_test)\n",
    "\n",
    "# performance    \n",
    "xgb_result_tuned = ml_error('XGBoost Regressor', np.expm1(y_test), np.expm1(yhat_xgb_tuned))\n",
    "xgb_result_tuned"
   ]
  },
  {
   "cell_type": "markdown",
   "metadata": {
    "heading_collapsed": true
   },
   "source": [
    "# 9. ERROR INTERPRETATION"
   ]
  },
  {
   "cell_type": "code",
   "execution_count": null,
   "metadata": {
    "hidden": true
   },
   "outputs": [],
   "source": [
    "df9 = X_test[cols_selected_boruta_full]\n",
    "\n",
    "# rescale\n",
    "df9['sales'] = np.expm1(df9['sales'])\n",
    "df9['predictions'] = np.expm1( yhat_xgb_tuned )"
   ]
  },
  {
   "cell_type": "markdown",
   "metadata": {
    "heading_collapsed": true,
    "hidden": true
   },
   "source": [
    "## 9.1. Business Performance"
   ]
  },
  {
   "cell_type": "code",
   "execution_count": null,
   "metadata": {
    "hidden": true
   },
   "outputs": [],
   "source": [
    "# sum of predictions\n",
    "df91 = df9[['store', 'predictions']].groupby('store').sum().reset_index()\n",
    "\n",
    "# MAE and MAPE\n",
    "df9_aux1 = df9[['store', 'sales', 'predictions']].groupby('store').apply(lambda x: mean_absolute_error( x['sales'], x['predictions'])).reset_index().rename( columns={0:'MAE'} )\n",
    "df9_aux2 = df9[['store', 'sales', 'predictions']].groupby('store').apply(lambda x: mean_absolute_percentage_error( x['sales'], x['predictions'])).reset_index().rename( columns={0:'MAPE'} )\n",
    "\n",
    "# merge\n",
    "df9_aux3 = pd.merge ( df9_aux1, df9_aux2, how='inner', on='store')\n",
    "df92 = pd.merge( df91, df9_aux3, how='inner', on='store')\n",
    "\n",
    "# scenarios\n",
    "df92['worst_scenario'] = df92['predictions'] - df92['MAE']\n",
    "df92['best_scenario'] = df92['predictions'] + df92['MAE']\n",
    "\n",
    "\n",
    "# order columns\n",
    "df92 = df92[['store', 'predictions', 'worst_scenario', 'best_scenario', 'MAE', 'MAPE']]"
   ]
  },
  {
   "cell_type": "code",
   "execution_count": null,
   "metadata": {
    "hidden": true
   },
   "outputs": [],
   "source": [
    "# Stores with more difficult prediction evaluation\n",
    "df92.sort_values('MAPE', ascending=False).head()"
   ]
  },
  {
   "cell_type": "code",
   "execution_count": null,
   "metadata": {
    "hidden": true
   },
   "outputs": [],
   "source": [
    "# Scatterplot visualization\n",
    "sns.scatterplot(x='store', y='MAPE', data=df92)"
   ]
  },
  {
   "cell_type": "markdown",
   "metadata": {
    "heading_collapsed": true,
    "hidden": true
   },
   "source": [
    "## 9.2. Total Performance"
   ]
  },
  {
   "cell_type": "code",
   "execution_count": null,
   "metadata": {
    "hidden": true
   },
   "outputs": [],
   "source": [
    "df93 = df92[['predictions', 'worst_scenario', 'best_scenario']].apply(lambda x: np.sum(x), axis=0).reset_index().rename( columns={'index': 'Scenario', 0:'Values'})\n",
    "df93['Values'] = df93['Values'].map( '${:,.2f}'.format )\n",
    "df93"
   ]
  },
  {
   "cell_type": "markdown",
   "metadata": {
    "heading_collapsed": true,
    "hidden": true
   },
   "source": [
    "## 9.3. Machine Learning Performance"
   ]
  },
  {
   "cell_type": "code",
   "execution_count": null,
   "metadata": {
    "hidden": true
   },
   "outputs": [],
   "source": [
    "df7['error'] = df7['sales'] - df7['predictions']\n",
    "\n",
    "df7['error_rate'] = df7['predictions'] / df7['sales']"
   ]
  },
  {
   "cell_type": "code",
   "execution_count": null,
   "metadata": {
    "hidden": true
   },
   "outputs": [],
   "source": [
    "sns.lineplot(x='date', y='sales', data=df7, label='Sales');\n",
    "sns.lineplot(x='date', y='predictions', data=df7, label='Predictions');\n",
    "\n",
    "plt.subplot(2,2,2)\n",
    "sns.lineplot(x='date', y='error_rate', data=df7);\n",
    "plt.axhline(1, linestyle = '--');\n",
    "\n",
    "plt.subplot(2,2,3)\n",
    "sns.distplot(df7['error']);\n",
    "\n",
    "plt.subplot(2,2,4)\n",
    "sns.scatterplot(df7['predictions'], df7['error']);"
   ]
  },
  {
   "cell_type": "markdown",
   "metadata": {},
   "source": [
    "# 10. MODEL DEPLOYMENT"
   ]
  },
  {
   "cell_type": "code",
   "execution_count": 88,
   "metadata": {
    "ExecuteTime": {
     "end_time": "2020-11-20T14:30:52.178126Z",
     "start_time": "2020-11-20T14:30:52.156015Z"
    }
   },
   "outputs": [],
   "source": [
    "# Saving trained model\n",
    "pickle.dump(model_xgb_tuned, open('/home/diandramelo/repos/Rossmann_Store_Sales/model_rossmann.pkl', 'wb'))"
   ]
  },
  {
   "cell_type": "code",
   "execution_count": 91,
   "metadata": {
    "ExecuteTime": {
     "end_time": "2020-11-20T14:37:09.816299Z",
     "start_time": "2020-11-20T14:37:09.809492Z"
    }
   },
   "outputs": [],
   "source": [
    "# Saving scalers: RobustScaler, MinMaxScaler, LabelEncoder\n",
    "pickle.dump(rs, open('parameter/competition_distance_scaler.pkl', 'wb'))\n",
    "pickle.dump(rs, open('/home/diandramelo/repos/Rossmann_Store_Sales/parameter/competition_time_month_scaler.pkl', 'wb')) \n",
    "pickle.dump(mms, open('/home/diandramelo/repos/Rossmann_Store_Sales/parameter/promo_time_week_scaler.pkl', 'wb')) \n",
    "pickle.dump(mms, open('/home/diandramelo/repos/Rossmann_Store_Sales/parameter/year_scaler.pkl', 'wb'))\n",
    "pickle.dump(le, open('/home/diandramelo/repos/Rossmann_Store_Sales/parameter/store_type_scaler.pkl', 'wb'))"
   ]
  },
  {
   "cell_type": "markdown",
   "metadata": {
    "heading_collapsed": true
   },
   "source": [
    "## 10.1. Rossmann Class"
   ]
  },
  {
   "cell_type": "code",
   "execution_count": null,
   "metadata": {
    "hidden": true
   },
   "outputs": [],
   "source": [
    "import pickle\n",
    "import inflection\n",
    "import pandas as pd\n",
    "import numpy as np\n",
    "import math\n",
    "import datetime\n",
    "\n",
    "class Rossmann(object):\n",
    "    \n",
    "    def __init__(self):\n",
    "        self.home_path                     = '/home/diandramelo/repos/Rossmann_Store_Sales/'\n",
    "        self.competition_distance_scaler   = pickle.load(open(self.home_path + 'parameter/competition_distance_scaler.pkl', 'rb'))\n",
    "        self.competition_time_month_scaler = pickle.load(open(self.home_path + 'parameter/competition_time_month_scaler.pkl', 'rb')) \n",
    "        self.promo_time_week_scaler        = pickle.load(open(self.home_path + 'parameter/promo_time_week_scaler.pkl', 'rb')) \n",
    "        self.year_scaler                   = pickle.load(open(self.home_path + 'parameter/year_scaler.pkl', 'rb'))\n",
    "        self.store_type_scaler             = pickle.load(open(self.home_path + 'parameter/store_type_scaler.pkl', 'rb'))\n",
    "        \n",
    "    def data_cleaning(self, df1):\n",
    "\n",
    "        ## 1.1. Rename Columns\n",
    "        cols_old = ['Store', 'DayOfWeek', 'Date', 'Open', 'Promo', 'StateHoliday', 'SchoolHoliday', 'StoreType', 'Assortment',\n",
    "                    'CompetitionDistance', 'CompetitionOpenSinceMonth', 'CompetitionOpenSinceYear', 'Promo2', \n",
    "                    'Promo2SinceWeek', 'Promo2SinceYear', 'PromoInterval']\n",
    "        snakecase = lambda x: inflection.underscore(x)\n",
    "        cols_new = list( map( snakecase, cols_old ) )\n",
    "        df1.columns = cols_new\n",
    "        \n",
    "        ## 1.3. Data Types\n",
    "        df1['date'] = pd.to_datetime(df1['date'])\n",
    "\n",
    "        ## 1.5. Fillout NA\n",
    "        df1['competition_distance'] = df1['competition_distance'].fillna(200000)\n",
    "        df1['competition_open_since_month'] = df1['competition_open_since_month'].fillna(df1['date'].dt.month)\n",
    "        df1['competition_open_since_year'] = df1['competition_open_since_year'].fillna(df1['date'].dt.year)\n",
    "        df1['promo2_since_week'] = df1['promo2_since_week'].fillna(df1['date'].dt.week)\n",
    "        df1['promo2_since_year'] = df1['promo2_since_year'].fillna(df1['date'].dt.year)\n",
    "        month_map = {1: 'Jan',\n",
    "                     2: 'Feb',\n",
    "                     3: 'Mar',\n",
    "                     4: 'Apr',\n",
    "                     5: 'May',\n",
    "                     6: 'Jun',\n",
    "                     7: 'Jul',\n",
    "                     8: 'Aug',\n",
    "                     9: 'Sep',\n",
    "                     10: 'Oct',\n",
    "                     11: 'Nov',\n",
    "                     12: 'Dec'}\n",
    "        df1['promo_interval'].fillna(0, inplace=True )\n",
    "        df1['month_map'] = df1['date'].dt.month.map( month_map )\n",
    "        df1['is_promo'] = df1[['promo_interval', 'month_map']].apply( lambda x: 0 if x['promo_interval'] == 0 else 1 if x['month_map'] in x['promo_interval'].split( ',' ) else 0, axis=1 )\n",
    "\n",
    "        ## 1.6. Change Data Type\n",
    "        # competition\n",
    "        df1['competition_open_since_month'] = df1['competition_open_since_month'].astype(int)\n",
    "        df1['competition_open_since_year'] = df1['competition_open_since_year'].astype(int)\n",
    "        # promo2\n",
    "        df1['promo2_since_week'] = df1['promo2_since_week'].astype(int)\n",
    "        df1['promo2_since_year'] = df1['promo2_since_year'].astype(int)\n",
    "        \n",
    "        return df1\n",
    "\n",
    "    \n",
    "    def feature_engineering(self, df2):\n",
    "        \n",
    "        ### 2.3.1. Created Columns\n",
    "        \n",
    "        # year\n",
    "        df2['year'] = df2['date'].dt.year\n",
    "\n",
    "        # month\n",
    "        df2['month'] = df2['date'].dt.month\n",
    "\n",
    "        # day\n",
    "        df2['day'] = df2['date'].dt.day\n",
    "\n",
    "        # week_of_year\n",
    "        df2['week_of_year'] = df2['date'].dt.week\n",
    "\n",
    "        # year_week\n",
    "        df2['year_week'] = df2['date'].dt.strftime('%Y-%W')\n",
    "\n",
    "        # competition_since\n",
    "        df2['competition_since'] = df2.apply(lambda x: datetime.datetime(year = x['competition_open_since_year'], month = x['competition_open_since_month'], day = 1), axis = 1)\n",
    "        df2['competition_time_month'] = ((df2['date'] - df2['competition_since'])/30).apply(lambda x: x.days).astype(int)\n",
    "\n",
    "        # promo_since\n",
    "        df2['promo_since'] = df2['promo2_since_year'].astype(str) + '-' + df2['promo2_since_week'].astype(str)\n",
    "        df2['promo_since'] = df2['promo_since'].apply(lambda x: datetime.datetime.strptime(x + '-1', '%Y-%W-%w') - datetime.timedelta(days = 7))\n",
    "        df2['promo_time_week'] = ((df2['date'] - df2['promo_since'])/7).apply(lambda x: x.days).astype(int)\n",
    "\n",
    "        ### 2.3.2. Modified Columns\n",
    "\n",
    "        # state_holiday\n",
    "        df2['state_holiday'] = df2['state_holiday'].apply(lambda x: 'public_holiday' if x == 'a' else 'easter_holiday' if x == 'b' else 'christmas' if x == 'c' else 'regular_day')\n",
    "\n",
    "        # assortment\n",
    "        df2['assortment'] = df2['assortment'].apply(lambda x: 'basic' if x == 'a' else 'extra' if x == 'b' else 'extended')\n",
    "        \n",
    "        \n",
    "        # 3. FILTERING VARIABLES\n",
    "\n",
    "        ## 3.1. Filtering Rows\n",
    "        df2 = df2[df2['open'] != 0]\n",
    "\n",
    "        ## 3.2. Columns Selection\n",
    "        cols_drop = ['open', 'promo_interval', 'month_map']\n",
    "        df2 = df2.drop(cols_drop, axis=1)\n",
    "        \n",
    "        return df2\n",
    "    \n",
    "    \n",
    "    def data_preparation(self, df5):\n",
    "\n",
    "        ## 5.2. Rescaling\n",
    "\n",
    "        # competition_distance (Robust Scaler)\n",
    "        df5['competition_distance'] = self.competition_distance_scaler.fit_transform(df5[['competition_distance']].values)\n",
    "\n",
    "        # competition_time_month\n",
    "        df5['competition_time_month'] = self.competition_time_month_scaler.fit_transform(df5[['competition_time_month']].values)\n",
    "\n",
    "        # promo_time_week\n",
    "        df5['promo_time_week'] = self.promo_time_week_scaler.fit_transform(df5[['promo_time_week']].values)\n",
    "\n",
    "        # year\n",
    "        df5['year'] = self.year_scaler.fit_transform(df5[['year']].values)\n",
    "\n",
    "        ## 5.3. Transformation\n",
    "\n",
    "        ### 5.3.2. Encoding\n",
    "\n",
    "        #state_holiday - One Hot Encoder\n",
    "        df5 = pd.get_dummies(df5, prefix = ['state_holiday'], columns = ['state_holiday'])\n",
    "\n",
    "        #store_type - Label Encoder\n",
    "        df5['store_type'] = self.store_type_scaler.fit_transform(df5['store_type'])\n",
    "\n",
    "        # assortment - Ordinal Encoder\n",
    "        assort_dict = {'basic': 1,\n",
    "                       'extra': 2,\n",
    "                       'extended': 3}\n",
    "        df5['assortment'] = df5['assortment'].map(assort_dict)\n",
    "\n",
    "        ### 5.3.3. Nature Transformation\n",
    "\n",
    "        # day_of_week\n",
    "        df5['day_of_week_sin'] = np.sin(2 * np.pi * df5['day_of_week'] / 7) \n",
    "        df5['day_of_week_cos'] = np.cos(2 * np.pi * df5['day_of_week'] / 7) \n",
    "\n",
    "        # day\n",
    "        df5['day_sin'] = np.sin(2 * np.pi * df5['day'] / 30) \n",
    "        df5['day_cos'] = np.cos(2 * np.pi * df5['day'] / 30) \n",
    "\n",
    "        # month\n",
    "        df5['month_sin'] = np.sin(2 * np.pi * df5['month'] / 12) \n",
    "        df5['month_cos'] = np.cos(2 * np.pi * df5['month'] / 12) \n",
    "\n",
    "        # week_of_year\n",
    "        df5['week_of_year_sin'] = np.sin(2 * np.pi * df5['week_of_year'] / 52) \n",
    "        df5['week_of_year_cos'] = np.cos(2 * np.pi * df5['week_of_year'] / 52) \n",
    "        \n",
    "        cols_selected = [ 'store', 'promo', 'store_type', 'assortment', 'competition_distance', 'competition_open_since_month',\n",
    "                          'competition_open_since_year', 'promo2', 'promo2_since_week', 'promo2_since_year',\n",
    "                          'competition_time_month', 'promo_time_week', 'month_cos', 'month_sin', 'day_sin', 'day_cos',\n",
    "                          'week_of_year_cos', 'day_of_week_sin', 'day_of_week_cos']\n",
    "        \n",
    "        return df5[cols_selected]\n",
    "    \n",
    "    def get_prediction(self, model, original_data, test_data):\n",
    "        # prediction\n",
    "        pred = model.predict(test_data)\n",
    "        \n",
    "        # join pred into original data\n",
    "        original_data['prediction'] = np.expm1(pred)\n",
    "        \n",
    "        return original_data.to_json(orient = 'records', date_format = 'iso')"
   ]
  },
  {
   "cell_type": "markdown",
   "metadata": {
    "heading_collapsed": true
   },
   "source": [
    "## 10.2. API Handler"
   ]
  },
  {
   "cell_type": "code",
   "execution_count": 4,
   "metadata": {
    "ExecuteTime": {
     "end_time": "2020-11-19T09:45:14.991520Z",
     "start_time": "2020-11-19T09:45:14.849098Z"
    },
    "hidden": true
   },
   "outputs": [
    {
     "ename": "ModuleNotFoundError",
     "evalue": "No module named 'flask'",
     "output_type": "error",
     "traceback": [
      "\u001b[0;31m---------------------------------------------------------------------------\u001b[0m",
      "\u001b[0;31mModuleNotFoundError\u001b[0m                       Traceback (most recent call last)",
      "\u001b[0;32m<ipython-input-4-6769915e1957>\u001b[0m in \u001b[0;36m<module>\u001b[0;34m\u001b[0m\n\u001b[0;32m----> 1\u001b[0;31m \u001b[0;32mfrom\u001b[0m \u001b[0mflask\u001b[0m \u001b[0;32mimport\u001b[0m \u001b[0mFlask\u001b[0m\u001b[0;34m\u001b[0m\u001b[0;34m\u001b[0m\u001b[0m\n\u001b[0m",
      "\u001b[0;31mModuleNotFoundError\u001b[0m: No module named 'flask'"
     ]
    }
   ],
   "source": [
    "import pickle\n",
    "import pandas as pd\n",
    "import os\n",
    "\n",
    "from flask import Flask, request, Response\n",
    "from rossmann.Rossmann import Rossmann\n",
    "\n",
    "# Loading model\n",
    "model = pickle.load(open('/home/diandramelo/repos/Rossmann_Store_Sales/model_rossmann.pkl', 'rb'))\n",
    "\n",
    "# Initializing API\n",
    "app = Flask(__name__)\n",
    "\n",
    "@app.route('rossmann/predict', methods = ['POST'])\n",
    "\n",
    "def rossmann_predict():\n",
    "    test_json = request.get_json()\n",
    "    \n",
    "    if test_json: # there is data\n",
    "        if isinstance(test_json, dict): # unique example\n",
    "            test_raw = pd.DataFrame(test_json, index = [0])\n",
    "        else: # multiple examples\n",
    "            test_raw = pd.DataFrame(test_json, columns = test_json[0].keys())\n",
    "            \n",
    "        # Instantiate Rossmann class\n",
    "        pipeline = Rossmann()\n",
    "        \n",
    "        # data cleaning\n",
    "        df1 = pipeline.data_cleaning(test_raw)\n",
    "        \n",
    "        # feature engineering\n",
    "        df2 = pipeline.feature_engineering(df1)\n",
    "        \n",
    "        # data preparation\n",
    "        df3 = pipeline.data_preparation(df2)\n",
    "        \n",
    "        # prediction\n",
    "        df_response = pipeline.get_prediction(model, test_raw, df3)\n",
    "        \n",
    "        return df_response\n",
    "        \n",
    "            \n",
    "    else: # there is no data\n",
    "        return Response('{}', status = 200, mimetype = 'application/json')\n",
    "\n",
    "if __name__ == '__main__':\n",
    "    port = os.environ.get('PORT', 5000)\n",
    "    app.run(host='0.0.0.0', port=port)  "
   ]
  },
  {
   "cell_type": "markdown",
   "metadata": {},
   "source": [
    "## 10.3. API Tester"
   ]
  },
  {
   "cell_type": "code",
   "execution_count": 4,
   "metadata": {
    "ExecuteTime": {
     "end_time": "2020-11-23T08:14:05.576580Z",
     "start_time": "2020-11-23T08:14:05.499110Z"
    }
   },
   "outputs": [],
   "source": [
    "# Loading test dataset\n",
    "df10 = pd.read_csv('/home/diandramelo/repos/Rossmann_Store_Sales/data/test.csv')"
   ]
  },
  {
   "cell_type": "code",
   "execution_count": 18,
   "metadata": {
    "ExecuteTime": {
     "end_time": "2020-11-23T08:15:42.536907Z",
     "start_time": "2020-11-23T08:15:42.506383Z"
    }
   },
   "outputs": [],
   "source": [
    "# Merge test dataset + store\n",
    "df_test = pd.merge(df10, df_store_raw, how = 'left', on = 'Store')\n",
    "\n",
    "# Choose store for prediction\n",
    "df_test = df_test[df_test['Store'].isin([11, 15, 43])]\n",
    "\n",
    "# Remove unrelevant info\n",
    "df_test = df_test[df_test['Open'] != 0]\n",
    "df_test = df_test[~df_test['Open'].isnull()]\n",
    "df_test = df_test.drop('Id', axis = 1)"
   ]
  },
  {
   "cell_type": "code",
   "execution_count": 19,
   "metadata": {
    "ExecuteTime": {
     "end_time": "2020-11-23T08:15:42.992451Z",
     "start_time": "2020-11-23T08:15:42.980330Z"
    }
   },
   "outputs": [],
   "source": [
    "# Convert DataFrame to json\n",
    "data = json.dumps(df_test.to_dict(orient='records'))"
   ]
  },
  {
   "cell_type": "code",
   "execution_count": 20,
   "metadata": {
    "ExecuteTime": {
     "end_time": "2020-11-23T08:15:43.844093Z",
     "start_time": "2020-11-23T08:15:43.739566Z"
    }
   },
   "outputs": [
    {
     "name": "stdout",
     "output_type": "stream",
     "text": [
      "Status code: 200\n"
     ]
    }
   ],
   "source": [
    "# API Call\n",
    "url = 'http://0.0.0.0:5000/rossmann/predict'\n",
    "header = {'Content-type' : 'application/json'}\n",
    "data = data \n",
    "\n",
    "r = requests.post(url, data = data, headers = header)\n",
    "print('Status code: {}'.format(r.status_code))"
   ]
  },
  {
   "cell_type": "code",
   "execution_count": 21,
   "metadata": {
    "ExecuteTime": {
     "end_time": "2020-11-23T08:15:44.433767Z",
     "start_time": "2020-11-23T08:15:44.424131Z"
    }
   },
   "outputs": [],
   "source": [
    "d1 = pd.DataFrame( r.json(), columns=r.json()[0].keys())"
   ]
  },
  {
   "cell_type": "code",
   "execution_count": 22,
   "metadata": {
    "ExecuteTime": {
     "end_time": "2020-11-23T08:15:44.979131Z",
     "start_time": "2020-11-23T08:15:44.970359Z"
    },
    "scrolled": true
   },
   "outputs": [
    {
     "name": "stdout",
     "output_type": "stream",
     "text": [
      "Store number 11 will sell R$223,235.87 in the next 6 weeks\n",
      "Store number 15 will sell R$269,314.03 in the next 6 weeks\n",
      "Store number 43 will sell R$280,834.18 in the next 6 weeks\n"
     ]
    }
   ],
   "source": [
    "d2 = d1[['store', 'prediction']].groupby('store').sum().reset_index()\n",
    "\n",
    "for i in range(len(d2)):\n",
    "    print('Store number {} will sell R${:,.2f} in the next 6 weeks'.format(d2.loc[i, 'store'], d2.loc[i, 'prediction']))"
   ]
  }
 ],
 "metadata": {
  "kernelspec": {
   "display_name": "Python 3",
   "language": "python",
   "name": "python3"
  },
  "language_info": {
   "codemirror_mode": {
    "name": "ipython",
    "version": 3
   },
   "file_extension": ".py",
   "mimetype": "text/x-python",
   "name": "python",
   "nbconvert_exporter": "python",
   "pygments_lexer": "ipython3",
   "version": "3.8.0"
  }
 },
 "nbformat": 4,
 "nbformat_minor": 4
}
